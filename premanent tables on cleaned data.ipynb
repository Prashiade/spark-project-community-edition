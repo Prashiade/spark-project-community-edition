{
 "cells": [
  {
   "cell_type": "code",
   "execution_count": 0,
   "metadata": {
    "application/vnd.databricks.v1+cell": {
     "cellMetadata": {
      "byteLimit": 2048000,
      "rowLimit": 10000
     },
     "inputWidgets": {},
     "nuid": "dbe2af13-5f46-4c79-8ba0-16213ef71c26",
     "showTitle": false,
     "tableResultSettingsMap": {},
     "title": ""
    }
   },
   "outputs": [],
   "source": [
    "customers_data_path =\"dbfs:/FileStore/tables/lendingclubproject/cleaned/customers_data_parquet\"\n",
    "loans_path=\"dbfs:/FileStore/tables/lendingclubproject/cleaned/loans_data_parquet\"\n",
    "loans_repayment_path =\"/FileStore/tables/lendingclubproject/cleaned/loans_repayments_parquet\"\n",
    "loans_default_path =\"dbfs:/FileStore/tables/lendingclubproject/raw/loans_defaulters_csv\""
   ]
  },
  {
   "cell_type": "code",
   "execution_count": 0,
   "metadata": {
    "application/vnd.databricks.v1+cell": {
     "cellMetadata": {
      "byteLimit": 2048000,
      "rowLimit": 10000
     },
     "inputWidgets": {},
     "nuid": "7a3d1bac-0f0a-434b-9833-e85d73eeb2b2",
     "showTitle": false,
     "tableResultSettingsMap": {},
     "title": ""
    }
   },
   "outputs": [],
   "source": [
    "customers_df = spark.read.parquet(\"dbfs:/FileStore/tables/lendingclubproject/cleaned/customers_data_parquet\")\n"
   ]
  },
  {
   "cell_type": "code",
   "execution_count": 0,
   "metadata": {
    "application/vnd.databricks.v1+cell": {
     "cellMetadata": {
      "byteLimit": 2048000,
      "implicitDf": true,
      "rowLimit": 10000
     },
     "inputWidgets": {},
     "nuid": "500dafef-faf9-4b40-a3cc-bb1600e7ed5e",
     "showTitle": false,
     "tableResultSettingsMap": {},
     "title": ""
    }
   },
   "outputs": [],
   "source": [
    "# Read original Parquet\n",
    "customers_df = spark.read.parquet(\"dbfs:/FileStore/tables/lendingclubproject/cleaned/customers_data_parquet\")\n",
    "\n",
    "# Convert timestamp column to string\n",
    "customers_df = customers_df.withColumn(\"ingest_date\", customers_df[\"ingest_date\"].cast(\"string\"))\n",
    "\n",
    "# Write back as new Parquet\n",
    "customers_df.write.mode(\"overwrite\").parquet(\"dbfs:/FileStore/tables/lendingclubproject/cleaned/customers_data_parquet_string\")\n",
    "\n"
   ]
  },
  {
   "cell_type": "code",
   "execution_count": 0,
   "metadata": {
    "application/vnd.databricks.v1+cell": {
     "cellMetadata": {
      "byteLimit": 2048000,
      "rowLimit": 10000
     },
     "inputWidgets": {},
     "nuid": "7920e8cf-7335-47e0-8a0e-19effca27fab",
     "showTitle": false,
     "tableResultSettingsMap": {},
     "title": ""
    }
   },
   "outputs": [
    {
     "output_type": "stream",
     "name": "stdout",
     "output_type": "stream",
     "text": [
      "Out[30]: DataFrame[]"
     ]
    }
   ],
   "source": [
    "# 1️⃣ Create schema first\n",
    "spark.sql(\"\"\"\n",
    "CREATE SCHEMA IF NOT EXISTS lending_club\n",
    "\"\"\")\n",
    "\n",
    "# 2️⃣ Create external table inside lending_club schema\n",
    "spark.sql(\"\"\"\n",
    "CREATE EXTERNAL TABLE IF NOT EXISTS lending_club.customers(\n",
    "    member_id STRING,\n",
    "    emp_title STRING,\n",
    "    emp_length INT,\n",
    "    home_ownership STRING,\n",
    "    annual_income FLOAT,\n",
    "    address_state STRING,\n",
    "    address_zipcode STRING,\n",
    "    address_country STRING,\n",
    "    grade STRING,\n",
    "    sub_grade STRING,\n",
    "    verification_status STRING,\n",
    "    total_high_credit_limit FLOAT,\n",
    "    application_type STRING,\n",
    "    join_annual_income FLOAT,\n",
    "    verification_status_joint STRING,\n",
    "    ingest_date STRING\n",
    ")\n",
    "STORED AS PARQUET\n",
    "LOCATION 'dbfs:/FileStore/tables/lendingclubproject/cleaned/customers_data_parquet_string'\n",
    "\"\"\")\n"
   ]
  },
  {
   "cell_type": "code",
   "execution_count": 0,
   "metadata": {
    "application/vnd.databricks.v1+cell": {
     "cellMetadata": {
      "byteLimit": 2048000,
      "rowLimit": 10000
     },
     "inputWidgets": {},
     "nuid": "743d1119-8498-421f-9984-fcf7a06c0afb",
     "showTitle": false,
     "tableResultSettingsMap": {},
     "title": ""
    }
   },
   "outputs": [
    {
     "output_type": "stream",
     "name": "stdout",
     "output_type": "stream",
     "text": [
      "Out[31]: DataFrame[]"
     ]
    }
   ],
   "source": [
    "# Read original Parquet\n",
    "customers_df = spark.read.parquet(\"dbfs:/FileStore/tables/lendingclubproject/cleaned/customers_data_parquet\")\n",
    "\n",
    "# Write as Delta\n",
    "customers_df.write.format(\"delta\").mode(\"overwrite\").save(\"dbfs:/FileStore/tables/lendingclubproject/cleaned/customers_data_delta\")\n",
    "\n",
    "# Create Delta table\n",
    "spark.sql(\"\"\"\n",
    "CREATE TABLE  if not exists lending_club.customers_delta\n",
    "USING DELTA\n",
    "LOCATION 'dbfs:/FileStore/tables/lendingclubproject/cleaned/customers_data_delta'\n",
    "\"\"\")\n"
   ]
  },
  {
   "cell_type": "code",
   "execution_count": 0,
   "metadata": {
    "application/vnd.databricks.v1+cell": {
     "cellMetadata": {
      "byteLimit": 2048000,
      "implicitDf": true,
      "rowLimit": 10000
     },
     "inputWidgets": {},
     "nuid": "f9cdd2f5-a154-45f5-a9ba-0efa18d8cd85",
     "showTitle": false,
     "tableResultSettingsMap": {},
     "title": ""
    }
   },
   "outputs": [
    {
     "output_type": "display_data",
     "data": {
      "text/html": [
       "<style scoped>\n",
       "  .table-result-container {\n",
       "    max-height: 300px;\n",
       "    overflow: auto;\n",
       "  }\n",
       "  table, th, td {\n",
       "    border: 1px solid black;\n",
       "    border-collapse: collapse;\n",
       "  }\n",
       "  th, td {\n",
       "    padding: 5px;\n",
       "  }\n",
       "  th {\n",
       "    text-align: left;\n",
       "  }\n",
       "</style><div class='table-result-container'><table class='table-result'><thead style='background-color: white'><tr><th>member_id</th><th>emp_title</th><th>emp_length</th><th>home_ownership</th><th>annual_income</th><th>address_state</th><th>address_zip_code</th><th>address_country</th><th>grade</th><th>sub_grade</th><th>verification_status</th><th>total_high_credit_limit</th><th>application_type</th><th>join_annual_income</th><th>verification_status_joint</th><th>ingest_date</th></tr></thead><tbody><tr><td>077e913b4cc781e0dd14a5cdfcacd74ea1ec3c33361eb139910b98a9565f1dc8</td><td>General Manager</td><td>5</td><td>RENT</td><td>60000.0</td><td>VA</td><td>234xx</td><td>USA</td><td>B</td><td>B5</td><td>Not Verified</td><td>63700.0</td><td>Individual</td><td>null</td><td>null</td><td>2025-09-11T05:42:04.623+0000</td></tr><tr><td>a44e21e0c08364bdb5be50add96cef6d02974e70f63510912bb8bc4c4baa3a2e</td><td>Teacher</td><td>2</td><td>MORTGAGE</td><td>60000.0</td><td>IL</td><td>608xx</td><td>USA</td><td>A</td><td>A5</td><td>Not Verified</td><td>144106.0</td><td>Individual</td><td>null</td><td>null</td><td>2025-09-11T05:42:04.623+0000</td></tr><tr><td>f7775515526463b1c7a7641683e10c74beee2516b0831d8cb7fd989220137725</td><td>Nurse Educator</td><td>3</td><td>RENT</td><td>150000.0</td><td>CA</td><td>900xx</td><td>USA</td><td>B</td><td>B1</td><td>Not Verified</td><td>118480.0</td><td>Individual</td><td>null</td><td>null</td><td>2025-09-11T05:42:04.623+0000</td></tr><tr><td>4bb6598efcef04c07b40b1831bf58e763c5e75ca5885ddbf024c55ab3af1d7ee</td><td>Senior business analyst</td><td>4</td><td>RENT</td><td>80000.0</td><td>GA</td><td>303xx</td><td>USA</td><td>B</td><td>B2</td><td>Not Verified</td><td>124337.0</td><td>Individual</td><td>null</td><td>null</td><td>2025-09-11T05:42:04.623+0000</td></tr><tr><td>b779f27d707ec82e5bdd809a423dc361fde8ad35eabf9853730b23a216f18030</td><td>Nurse</td><td>7</td><td>MORTGAGE</td><td>76000.0</td><td>NC</td><td>281xx</td><td>USA</td><td>B</td><td>B3</td><td>Source Verified</td><td>410381.0</td><td>Individual</td><td>null</td><td>null</td><td>2025-09-11T05:42:04.623+0000</td></tr></tbody></table></div>"
      ]
     },
     "metadata": {
      "application/vnd.databricks.v1+output": {
       "addedWidgets": {},
       "aggData": [],
       "aggError": "",
       "aggOverflow": false,
       "aggSchema": [],
       "aggSeriesLimitReached": false,
       "aggType": "",
       "arguments": {},
       "columnCustomDisplayInfos": {},
       "data": [
        [
         "077e913b4cc781e0dd14a5cdfcacd74ea1ec3c33361eb139910b98a9565f1dc8",
         "General Manager",
         5,
         "RENT",
         60000.0,
         "VA",
         "234xx",
         "USA",
         "B",
         "B5",
         "Not Verified",
         63700.0,
         "Individual",
         null,
         null,
         "2025-09-11T05:42:04.623+0000"
        ],
        [
         "a44e21e0c08364bdb5be50add96cef6d02974e70f63510912bb8bc4c4baa3a2e",
         "Teacher",
         2,
         "MORTGAGE",
         60000.0,
         "IL",
         "608xx",
         "USA",
         "A",
         "A5",
         "Not Verified",
         144106.0,
         "Individual",
         null,
         null,
         "2025-09-11T05:42:04.623+0000"
        ],
        [
         "f7775515526463b1c7a7641683e10c74beee2516b0831d8cb7fd989220137725",
         "Nurse Educator",
         3,
         "RENT",
         150000.0,
         "CA",
         "900xx",
         "USA",
         "B",
         "B1",
         "Not Verified",
         118480.0,
         "Individual",
         null,
         null,
         "2025-09-11T05:42:04.623+0000"
        ],
        [
         "4bb6598efcef04c07b40b1831bf58e763c5e75ca5885ddbf024c55ab3af1d7ee",
         "Senior business analyst",
         4,
         "RENT",
         80000.0,
         "GA",
         "303xx",
         "USA",
         "B",
         "B2",
         "Not Verified",
         124337.0,
         "Individual",
         null,
         null,
         "2025-09-11T05:42:04.623+0000"
        ],
        [
         "b779f27d707ec82e5bdd809a423dc361fde8ad35eabf9853730b23a216f18030",
         "Nurse",
         7,
         "MORTGAGE",
         76000.0,
         "NC",
         "281xx",
         "USA",
         "B",
         "B3",
         "Source Verified",
         410381.0,
         "Individual",
         null,
         null,
         "2025-09-11T05:42:04.623+0000"
        ]
       ],
       "datasetInfos": [],
       "dbfsResultPath": null,
       "isJsonSchema": true,
       "metadata": {},
       "overflow": false,
       "plotOptions": {
        "customPlotOptions": {},
        "displayType": "table",
        "pivotAggregation": null,
        "pivotColumns": null,
        "xColumns": null,
        "yColumns": null
       },
       "removedWidgets": [],
       "schema": [
        {
         "metadata": "{}",
         "name": "member_id",
         "type": "\"string\""
        },
        {
         "metadata": "{}",
         "name": "emp_title",
         "type": "\"string\""
        },
        {
         "metadata": "{}",
         "name": "emp_length",
         "type": "\"integer\""
        },
        {
         "metadata": "{}",
         "name": "home_ownership",
         "type": "\"string\""
        },
        {
         "metadata": "{}",
         "name": "annual_income",
         "type": "\"float\""
        },
        {
         "metadata": "{}",
         "name": "address_state",
         "type": "\"string\""
        },
        {
         "metadata": "{}",
         "name": "address_zip_code",
         "type": "\"string\""
        },
        {
         "metadata": "{}",
         "name": "address_country",
         "type": "\"string\""
        },
        {
         "metadata": "{}",
         "name": "grade",
         "type": "\"string\""
        },
        {
         "metadata": "{}",
         "name": "sub_grade",
         "type": "\"string\""
        },
        {
         "metadata": "{}",
         "name": "verification_status",
         "type": "\"string\""
        },
        {
         "metadata": "{}",
         "name": "total_high_credit_limit",
         "type": "\"float\""
        },
        {
         "metadata": "{}",
         "name": "application_type",
         "type": "\"string\""
        },
        {
         "metadata": "{}",
         "name": "join_annual_income",
         "type": "\"float\""
        },
        {
         "metadata": "{}",
         "name": "verification_status_joint",
         "type": "\"string\""
        },
        {
         "metadata": "{}",
         "name": "ingest_date",
         "type": "\"timestamp\""
        }
       ],
       "type": "table"
      }
     },
     "output_type": "display_data"
    }
   ],
   "source": [
    "%sql\n",
    "select * from lending_club.customers_delta limit 5"
   ]
  },
  {
   "cell_type": "markdown",
   "metadata": {
    "application/vnd.databricks.v1+cell": {
     "cellMetadata": {
      "byteLimit": 2048000,
      "rowLimit": 10000
     },
     "inputWidgets": {},
     "nuid": "fe0699c9-495a-426f-8437-b32a2750f0b2",
     "showTitle": false,
     "tableResultSettingsMap": {},
     "title": ""
    }
   },
   "source": [
    "# creating table for loans data "
   ]
  },
  {
   "cell_type": "code",
   "execution_count": 0,
   "metadata": {
    "application/vnd.databricks.v1+cell": {
     "cellMetadata": {
      "byteLimit": 2048000,
      "rowLimit": 10000
     },
     "inputWidgets": {},
     "nuid": "6a21214f-f837-4c27-adfa-33c2515a24b5",
     "showTitle": false,
     "tableResultSettingsMap": {},
     "title": ""
    }
   },
   "outputs": [
    {
     "output_type": "stream",
     "name": "stdout",
     "output_type": "stream",
     "text": [
      "Out[52]: DataFrame[]"
     ]
    }
   ],
   "source": [
    "spark.sql(\"\"\"\n",
    "CREATE EXTERNAL TABLE if not exists  lending_club.loans_repayments(\n",
    "    loan_id string,\n",
    "    total_principal_received float,\n",
    "    total_interest_received float,\n",
    "    total_late_fee_received float,\n",
    "    total_payment_received float,\n",
    "    last_payment_amount float,\n",
    "    last_payment_date string,\n",
    "    next_payment_date string,\n",
    "    ingest_date string\n",
    ")\n",
    "STORED AS PARQUET\n",
    "LOCATION 'dbfs:/FileStore/tables/lendingclubproject/cleaned/loans_repayments_parquet_string'\n",
    "\"\"\")\n"
   ]
  },
  {
   "cell_type": "code",
   "execution_count": 0,
   "metadata": {
    "application/vnd.databricks.v1+cell": {
     "cellMetadata": {
      "byteLimit": 2048000,
      "rowLimit": 10000
     },
     "inputWidgets": {},
     "nuid": "edb15b28-591b-486e-9d94-6c33fb8754f3",
     "showTitle": false,
     "tableResultSettingsMap": {},
     "title": ""
    }
   },
   "outputs": [
    {
     "output_type": "stream",
     "name": "stdout",
     "output_type": "stream",
     "text": [
      "Out[53]: DataFrame[]"
     ]
    }
   ],
   "source": [
    "spark.sql(\"\"\"\n",
    "CREATE EXTERNAL TABLE  if not exists lending_club.loans(\n",
    "    loan_id string,\n",
    "    member_id string,\n",
    "    loan_amount float,\n",
    "    funded_amount float,\n",
    "    loan_term_years int,\n",
    "    interest_rate float,\n",
    "    monthly_installment float,\n",
    "    issue_date string,\n",
    "    loan_status string,\n",
    "    loan_purpose string,\n",
    "    loan_title string,\n",
    "    ingest_date string\n",
    ")\n",
    "STORED AS PARQUET\n",
    "LOCATION 'dbfs:/FileStore/tables/lendingclubproject/cleaned/loans_parquet_string'\n",
    "\"\"\")\n"
   ]
  },
  {
   "cell_type": "code",
   "execution_count": 0,
   "metadata": {
    "application/vnd.databricks.v1+cell": {
     "cellMetadata": {
      "byteLimit": 2048000,
      "rowLimit": 10000
     },
     "inputWidgets": {},
     "nuid": "f91e0b8c-3c94-4767-ac9a-63fef3e37e64",
     "showTitle": false,
     "tableResultSettingsMap": {},
     "title": ""
    }
   },
   "outputs": [
    {
     "output_type": "stream",
     "name": "stdout",
     "output_type": "stream",
     "text": [
      "Out[54]: DataFrame[]"
     ]
    }
   ],
   "source": [
    "spark.sql(\"\"\"\n",
    "CREATE EXTERNAL TABLE  if not exists lending_club.loans_defaulters_delinq(\n",
    "    member_id string,\n",
    "    delinq_2yrs int,\n",
    "    delinq_amnt float,\n",
    "    mths_since_last_delinq int\n",
    ")\n",
    "STORED AS PARQUET\n",
    "LOCATION 'dbfs:/FileStore/tables/lendingclubproject/cleaned/loans_defaulters_delinq_parquet'\n",
    "\"\"\")\n"
   ]
  },
  {
   "cell_type": "code",
   "execution_count": 0,
   "metadata": {
    "application/vnd.databricks.v1+cell": {
     "cellMetadata": {
      "byteLimit": 2048000,
      "rowLimit": 10000
     },
     "inputWidgets": {},
     "nuid": "21b2f9a8-2c8d-4601-963c-edc5ef64686c",
     "showTitle": false,
     "tableResultSettingsMap": {},
     "title": ""
    }
   },
   "outputs": [
    {
     "output_type": "stream",
     "name": "stdout",
     "output_type": "stream",
     "text": [
      "Out[55]: DataFrame[]"
     ]
    }
   ],
   "source": [
    "spark.sql(\"\"\"\n",
    "CREATE EXTERNAL TABLE  if not exists lending_club.loans_defaulters_detail_rec_enq(\n",
    "    member_id string,\n",
    "    pub_rec int,\n",
    "    pub_rec_bankruptcies int,\n",
    "    inq_last_6mths int\n",
    ")\n",
    "STORED AS PARQUET\n",
    "LOCATION 'dbfs:/FileStore/tables/lendingclubproject/cleaned/loans_defaulters_detail_records_enq_parquet'\n",
    "\"\"\")\n"
   ]
  },
  {
   "cell_type": "code",
   "execution_count": 0,
   "metadata": {
    "application/vnd.databricks.v1+cell": {
     "cellMetadata": {
      "byteLimit": 2048000,
      "rowLimit": 10000
     },
     "inputWidgets": {},
     "nuid": "70214a6b-8bda-4183-8a45-c14f1ca36bcd",
     "showTitle": false,
     "tableResultSettingsMap": {},
     "title": ""
    }
   },
   "outputs": [
    {
     "output_type": "stream",
     "name": "stdout",
     "output_type": "stream",
     "text": [
      "+------------+-------------------------------+-----------+\n|database    |tableName                      |isTemporary|\n+------------+-------------------------------+-----------+\n|lending_club|customers                      |false      |\n|lending_club|customers_delta                |false      |\n|lending_club|customers_loan_t               |false      |\n|lending_club|customers_loan_v               |false      |\n|lending_club|loans                          |false      |\n|lending_club|loans_defaulters_delinq        |false      |\n|lending_club|loans_defaulters_detail_rec_enq|false      |\n|lending_club|loans_repayments               |false      |\n+------------+-------------------------------+-----------+\n\n"
     ]
    }
   ],
   "source": [
    "# List all tables in the database\n",
    "spark.sql(\"SHOW TABLES IN lending_club\").show(truncate=False)\n"
   ]
  },
  {
   "cell_type": "code",
   "execution_count": 0,
   "metadata": {
    "application/vnd.databricks.v1+cell": {
     "cellMetadata": {
      "byteLimit": 2048000,
      "rowLimit": 10000
     },
     "inputWidgets": {},
     "nuid": "945ae4b3-e023-44b7-99a7-d45a4081b0de",
     "showTitle": false,
     "tableResultSettingsMap": {},
     "title": ""
    }
   },
   "outputs": [
    {
     "output_type": "stream",
     "name": "stdout",
     "output_type": "stream",
     "text": [
      "Out[57]: DataFrame[]"
     ]
    }
   ],
   "source": [
    "spark.sql(\"\"\"\n",
    "CREATE OR REPLACE VIEW lending_club.customers_loan_v AS\n",
    "SELECT\n",
    "    l.loan_id,\n",
    "    c.member_id,\n",
    "    c.emp_title,\n",
    "    c.emp_length,\n",
    "    c.home_ownership,\n",
    "    c.annual_income,\n",
    "    c.address_state,\n",
    "    c.address_zipcode,\n",
    "    c.address_country,\n",
    "    c.grade,\n",
    "    c.sub_grade,\n",
    "    c.verification_status,\n",
    "    c.total_high_credit_limit,\n",
    "    c.application_type,\n",
    "    c.join_annual_income,\n",
    "    c.verification_status_joint,\n",
    "    l.loan_amount,\n",
    "    l.funded_amount,\n",
    "    l.loan_term_years,\n",
    "    l.interest_rate,\n",
    "    l.monthly_installment,\n",
    "    l.issue_date,\n",
    "    l.loan_status,\n",
    "    l.loan_purpose,\n",
    "    r.total_principal_received,\n",
    "    r.total_interest_received,\n",
    "    r.total_late_fee_received,\n",
    "    r.last_payment_date,\n",
    "    r.next_payment_date,\n",
    "    d.delinq_2yrs,\n",
    "    d.delinq_amnt,\n",
    "    d.mths_since_last_delinq,\n",
    "    e.pub_rec,\n",
    "    e.pub_rec_bankruptcies,\n",
    "    e.inq_last_6mths\n",
    "FROM lending_club.customers c\n",
    "LEFT JOIN lending_club.loans l\n",
    "    ON c.member_id = l.member_id\n",
    "LEFT JOIN lending_club.loans_repayments r\n",
    "    ON l.loan_id = r.loan_id\n",
    "LEFT JOIN lending_club.loans_defaulters_delinq d\n",
    "    ON c.member_id = d.member_id\n",
    "LEFT JOIN lending_club.loans_defaulters_detail_rec_enq e\n",
    "    ON c.member_id = e.member_id\n",
    "\"\"\")\n"
   ]
  },
  {
   "cell_type": "code",
   "execution_count": 0,
   "metadata": {
    "application/vnd.databricks.v1+cell": {
     "cellMetadata": {
      "byteLimit": 2048000,
      "rowLimit": 10000
     },
     "inputWidgets": {},
     "nuid": "0173be72-a1ad-4e4d-884b-d125ee359b66",
     "showTitle": false,
     "tableResultSettingsMap": {},
     "title": ""
    }
   },
   "outputs": [
    {
     "output_type": "stream",
     "name": "stdout",
     "output_type": "stream",
     "text": [
      "Out[61]: DataFrame[num_affected_rows: bigint, num_inserted_rows: bigint]"
     ]
    }
   ],
   "source": [
    "spark.sql(\"\"\"\n",
    "CREATE TABLE if not exists  lending_club.customers_loan_t\n",
    "AS\n",
    "SELECT\n",
    "    l.loan_id,\n",
    "    c.member_id,\n",
    "    c.emp_title,\n",
    "    c.emp_length,\n",
    "    c.home_ownership,\n",
    "    c.annual_income,\n",
    "    c.address_state,\n",
    "    c.address_zipcode,\n",
    "    c.address_country,\n",
    "    c.grade,\n",
    "    c.sub_grade,\n",
    "    c.verification_status,\n",
    "    c.total_high_credit_limit,\n",
    "    c.application_type,\n",
    "    c.join_annual_income,\n",
    "    c.verification_status_joint,\n",
    "    l.loan_amount,\n",
    "    l.funded_amount,\n",
    "    l.loan_term_years,\n",
    "    l.interest_rate,\n",
    "    l.monthly_installment,\n",
    "    l.issue_date,\n",
    "    l.loan_status,\n",
    "    l.loan_purpose,\n",
    "    r.total_principal_received,\n",
    "    r.total_interest_received,\n",
    "    r.total_late_fee_received,\n",
    "    r.last_payment_date,\n",
    "    r.next_payment_date,\n",
    "    d.delinq_2yrs,\n",
    "    d.delinq_amnt,\n",
    "    d.mths_since_last_delinq,\n",
    "    e.pub_rec,\n",
    "    e.pub_rec_bankruptcies,\n",
    "    e.inq_last_6mths\n",
    "FROM lending_club.customers c\n",
    "LEFT JOIN lending_club.loans l\n",
    "    ON c.member_id = l.member_id\n",
    "LEFT JOIN lending_club.loans_repayments r\n",
    "    ON l.loan_id = r.loan_id\n",
    "LEFT JOIN lending_club.loans_defaulters_delinq d\n",
    "    ON c.member_id = d.member_id\n",
    "LEFT JOIN lending_club.loans_defaulters_detail_rec_enq e\n",
    "    ON c.member_id = e.member_id\n",
    "\"\"\")\n"
   ]
  },
  {
   "cell_type": "code",
   "execution_count": 0,
   "metadata": {
    "application/vnd.databricks.v1+cell": {
     "cellMetadata": {
      "byteLimit": 2048000,
      "rowLimit": 10000
     },
     "inputWidgets": {},
     "nuid": "d8be154b-a6e3-4598-be68-b992917fc760",
     "showTitle": false,
     "tableResultSettingsMap": {},
     "title": ""
    }
   },
   "outputs": [
    {
     "output_type": "stream",
     "name": "stdout",
     "output_type": "stream",
     "text": [
      "Refreshing table: customers\nRefreshing table: customers_delta\nRefreshing table: customers_loan_t\nRefreshing table: customers_loan_v\nRefreshing table: loans\nRefreshing table: loans_defaulters_delinq\nRefreshing table: loans_defaulters_detail_rec_enq\nRefreshing table: loans_repayments\n"
     ]
    }
   ],
   "source": [
    "# List all tables inside lending_club schema\n",
    "tables_df = spark.sql(\"SHOW TABLES IN lending_club\")\n",
    "\n",
    "# Loop and refresh each one\n",
    "for row in tables_df.collect():\n",
    "    table_name = row[\"tableName\"]\n",
    "    print(f\"Refreshing table: {table_name}\")\n",
    "    spark.sql(f\"REFRESH TABLE lending_club.{table_name}\")\n"
   ]
  },
  {
   "cell_type": "code",
   "execution_count": 0,
   "metadata": {
    "application/vnd.databricks.v1+cell": {
     "cellMetadata": {
      "byteLimit": 2048000,
      "rowLimit": 10000
     },
     "inputWidgets": {},
     "nuid": "3f784a0b-0923-4a3f-87f6-d29096d162fe",
     "showTitle": false,
     "tableResultSettingsMap": {},
     "title": ""
    }
   },
   "outputs": [
    {
     "output_type": "stream",
     "name": "stdout",
     "output_type": "stream",
     "text": [
      "+------------+-------------------------------+-----------+\n|database    |tableName                      |isTemporary|\n+------------+-------------------------------+-----------+\n|lending_club|customers                      |false      |\n|lending_club|customers_delta                |false      |\n|lending_club|customers_loan_t               |false      |\n|lending_club|customers_loan_v               |false      |\n|lending_club|loans                          |false      |\n|lending_club|loans_defaulters_delinq        |false      |\n|lending_club|loans_defaulters_detail_rec_enq|false      |\n|lending_club|loans_repayments               |false      |\n+------------+-------------------------------+-----------+\n\n"
     ]
    }
   ],
   "source": [
    "spark.sql(\"SHOW TABLES IN lending_club\").show(truncate=False)\n",
    "\n"
   ]
  },
  {
   "cell_type": "code",
   "execution_count": 0,
   "metadata": {
    "application/vnd.databricks.v1+cell": {
     "cellMetadata": {
      "byteLimit": 2048000,
      "rowLimit": 10000
     },
     "inputWidgets": {},
     "nuid": "c437ace2-8a1c-48f6-85da-cfc50649bffa",
     "showTitle": false,
     "tableResultSettingsMap": {},
     "title": ""
    }
   },
   "outputs": [
    {
     "output_type": "display_data",
     "data": {
      "text/html": [
       "<style scoped>\n",
       "  .table-result-container {\n",
       "    max-height: 300px;\n",
       "    overflow: auto;\n",
       "  }\n",
       "  table, th, td {\n",
       "    border: 1px solid black;\n",
       "    border-collapse: collapse;\n",
       "  }\n",
       "  th, td {\n",
       "    padding: 5px;\n",
       "  }\n",
       "  th {\n",
       "    text-align: left;\n",
       "  }\n",
       "</style><div class='table-result-container'><table class='table-result'><thead style='background-color: white'><tr><th>table</th><th>row_count</th></tr></thead><tbody><tr><td>customers</td><td>2260633</td></tr><tr><td>customers_delta</td><td>2260633</td></tr><tr><td>customers_loan_t</td><td>2260633</td></tr><tr><td>customers_loan_v</td><td>2260633</td></tr><tr><td>loans</td><td>0</td></tr><tr><td>loans_defaulters_delinq</td><td>0</td></tr><tr><td>loans_defaulters_detail_rec_enq</td><td>0</td></tr><tr><td>loans_repayments</td><td>0</td></tr></tbody></table></div>"
      ]
     },
     "metadata": {
      "application/vnd.databricks.v1+output": {
       "addedWidgets": {},
       "aggData": [],
       "aggError": "",
       "aggOverflow": false,
       "aggSchema": [],
       "aggSeriesLimitReached": false,
       "aggType": "",
       "arguments": {},
       "columnCustomDisplayInfos": {},
       "data": [
        [
         "customers",
         2260633
        ],
        [
         "customers_delta",
         2260633
        ],
        [
         "customers_loan_t",
         2260633
        ],
        [
         "customers_loan_v",
         2260633
        ],
        [
         "loans",
         0
        ],
        [
         "loans_defaulters_delinq",
         0
        ],
        [
         "loans_defaulters_detail_rec_enq",
         0
        ],
        [
         "loans_repayments",
         0
        ]
       ],
       "datasetInfos": [],
       "dbfsResultPath": null,
       "isJsonSchema": true,
       "metadata": {},
       "overflow": false,
       "plotOptions": {
        "customPlotOptions": {},
        "displayType": "table",
        "pivotAggregation": null,
        "pivotColumns": null,
        "xColumns": null,
        "yColumns": null
       },
       "removedWidgets": [],
       "schema": [
        {
         "metadata": "{}",
         "name": "table",
         "type": "\"string\""
        },
        {
         "metadata": "{}",
         "name": "row_count",
         "type": "\"long\""
        }
       ],
       "type": "table"
      }
     },
     "output_type": "display_data"
    }
   ],
   "source": [
    "from pyspark.sql import Row\n",
    "\n",
    "results = []\n",
    "for row in tables_df.collect():\n",
    "    table_name = row[\"tableName\"]\n",
    "    spark.sql(f\"REFRESH TABLE lending_club.{table_name}\")\n",
    "    count = spark.sql(f\"SELECT COUNT(*) as cnt FROM lending_club.{table_name}\").collect()[0][\"cnt\"]\n",
    "    results.append(Row(table=table_name, row_count=count))\n",
    "\n",
    "display(spark.createDataFrame(results))\n"
   ]
  }
 ],
 "metadata": {
  "application/vnd.databricks.v1+notebook": {
   "computePreferences": null,
   "dashboards": [],
   "environmentMetadata": {
    "base_environment": "",
    "environment_version": "1"
   },
   "inputWidgetPreferences": null,
   "language": "python",
   "notebookMetadata": {
    "mostRecentlyExecutedCommandWithImplicitDF": {
     "commandId": 4350320157809756,
     "dataframes": [
      "_sqldf"
     ]
    },
    "pythonIndentUnit": 4
   },
   "notebookName": "premanent tables on cleaned data",
   "widgets": {}
  }
 },
 "nbformat": 4,
 "nbformat_minor": 0
}