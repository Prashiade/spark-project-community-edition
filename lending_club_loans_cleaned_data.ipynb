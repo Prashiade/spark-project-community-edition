{
 "cells": [
  {
   "cell_type": "code",
   "execution_count": 0,
   "metadata": {
    "application/vnd.databricks.v1+cell": {
     "cellMetadata": {
      "byteLimit": 2048000,
      "rowLimit": 10000
     },
     "inputWidgets": {},
     "nuid": "39bae217-cb18-48a3-b6fa-1a6007bc7d30",
     "showTitle": false,
     "tableResultSettingsMap": {},
     "title": ""
    }
   },
   "outputs": [],
   "source": [
    "customers_data_path =\"dbfs:/FileStore/tables/lendingclubproject/raw/customers_data_csv\"\n",
    "loans_path=\"dbfs:/FileStore/tables/lendingclubproject/raw/loans_data_csv\"\n",
    "loans_repayment_path =\"/FileStore/tables/lendingclubproject/raw/loans_repayments_csv\"\n",
    "loans_default_path =\"dbfs:/FileStore/tables/lendingclubproject/raw/loans_defaulters_csv\""
   ]
  },
  {
   "cell_type": "code",
   "execution_count": 0,
   "metadata": {
    "application/vnd.databricks.v1+cell": {
     "cellMetadata": {
      "byteLimit": 2048000,
      "rowLimit": 10000
     },
     "inputWidgets": {},
     "nuid": "d32827dc-f667-4226-b5fb-fefc0438a1be",
     "showTitle": false,
     "tableResultSettingsMap": {},
     "title": ""
    }
   },
   "outputs": [],
   "source": [
    "from pyspark.sql import SparkSession\n",
    "\n",
    "spark = SparkSession.builder \\\n",
    "    .appName(\"LoansDataProcessing\") \\\n",
    "    .getOrCreate()\n"
   ]
  },
  {
   "cell_type": "code",
   "execution_count": 0,
   "metadata": {
    "application/vnd.databricks.v1+cell": {
     "cellMetadata": {
      "byteLimit": 2048000,
      "rowLimit": 10000
     },
     "inputWidgets": {},
     "nuid": "390603b9-4a74-42c8-ba95-fb29889a5439",
     "showTitle": false,
     "tableResultSettingsMap": {},
     "title": ""
    }
   },
   "outputs": [
    {
     "output_type": "display_data",
     "data": {
      "text/html": [
       "<style scoped>\n",
       "  .table-result-container {\n",
       "    max-height: 300px;\n",
       "    overflow: auto;\n",
       "  }\n",
       "  table, th, td {\n",
       "    border: 1px solid black;\n",
       "    border-collapse: collapse;\n",
       "  }\n",
       "  th, td {\n",
       "    padding: 5px;\n",
       "  }\n",
       "  th {\n",
       "    text-align: left;\n",
       "  }\n",
       "</style><div class='table-result-container'><table class='table-result'><thead style='background-color: white'><tr><th>path</th><th>name</th><th>size</th><th>modificationTime</th></tr></thead><tbody><tr><td>dbfs:/FileStore/tables/lendingclubproject/raw/loans_data_csv/_SUCCESS</td><td>_SUCCESS</td><td>0</td><td>1757401769000</td></tr><tr><td>dbfs:/FileStore/tables/lendingclubproject/raw/loans_data_csv/_committed_5081223458602308933</td><td>_committed_5081223458602308933</td><td>113</td><td>1757401769000</td></tr><tr><td>dbfs:/FileStore/tables/lendingclubproject/raw/loans_data_csv/_started_5081223458602308933</td><td>_started_5081223458602308933</td><td>0</td><td>1757401745000</td></tr><tr><td>dbfs:/FileStore/tables/lendingclubproject/raw/loans_data_csv/part-00000-tid-5081223458602308933-2f1773a8-5d1a-4a1f-897f-f27d7ed6ae93-376-1-c000.csv</td><td>part-00000-tid-5081223458602308933-2f1773a8-5d1a-4a1f-897f-f27d7ed6ae93-376-1-c000.csv</td><td>374481078</td><td>1757401766000</td></tr></tbody></table></div>"
      ]
     },
     "metadata": {
      "application/vnd.databricks.v1+output": {
       "addedWidgets": {},
       "aggData": [],
       "aggError": "",
       "aggOverflow": false,
       "aggSchema": [],
       "aggSeriesLimitReached": false,
       "aggType": "",
       "arguments": {},
       "columnCustomDisplayInfos": {},
       "data": [
        [
         "dbfs:/FileStore/tables/lendingclubproject/raw/loans_data_csv/_SUCCESS",
         "_SUCCESS",
         0,
         1757401769000
        ],
        [
         "dbfs:/FileStore/tables/lendingclubproject/raw/loans_data_csv/_committed_5081223458602308933",
         "_committed_5081223458602308933",
         113,
         1757401769000
        ],
        [
         "dbfs:/FileStore/tables/lendingclubproject/raw/loans_data_csv/_started_5081223458602308933",
         "_started_5081223458602308933",
         0,
         1757401745000
        ],
        [
         "dbfs:/FileStore/tables/lendingclubproject/raw/loans_data_csv/part-00000-tid-5081223458602308933-2f1773a8-5d1a-4a1f-897f-f27d7ed6ae93-376-1-c000.csv",
         "part-00000-tid-5081223458602308933-2f1773a8-5d1a-4a1f-897f-f27d7ed6ae93-376-1-c000.csv",
         374481078,
         1757401766000
        ]
       ],
       "datasetInfos": [],
       "dbfsResultPath": null,
       "isJsonSchema": true,
       "metadata": {
        "isDbfsCommandResult": false
       },
       "overflow": false,
       "plotOptions": {
        "customPlotOptions": {},
        "displayType": "table",
        "pivotAggregation": null,
        "pivotColumns": null,
        "xColumns": null,
        "yColumns": null
       },
       "removedWidgets": [],
       "schema": [
        {
         "metadata": "{}",
         "name": "path",
         "type": "\"string\""
        },
        {
         "metadata": "{}",
         "name": "name",
         "type": "\"string\""
        },
        {
         "metadata": "{}",
         "name": "size",
         "type": "\"long\""
        },
        {
         "metadata": "{}",
         "name": "modificationTime",
         "type": "\"long\""
        }
       ],
       "type": "table"
      }
     },
     "output_type": "display_data"
    }
   ],
   "source": [
    "%fs ls \"dbfs:/FileStore/tables/lendingclubproject/raw/loans_data_csv\""
   ]
  },
  {
   "cell_type": "code",
   "execution_count": 0,
   "metadata": {
    "application/vnd.databricks.v1+cell": {
     "cellMetadata": {
      "byteLimit": 2048000,
      "rowLimit": 10000
     },
     "inputWidgets": {},
     "nuid": "95a49808-5516-47d4-9042-af70e1a894c9",
     "showTitle": false,
     "tableResultSettingsMap": {},
     "title": ""
    }
   },
   "outputs": [],
   "source": [
    "loans_schema = 'loan_id string, member_id string, loan_amount float, funded_amount float, loan_term_months string, interest_rate float, monthly_installment float, issue_date string, loan_status string, loan_purpose string, loan_title string'"
   ]
  },
  {
   "cell_type": "code",
   "execution_count": 0,
   "metadata": {
    "application/vnd.databricks.v1+cell": {
     "cellMetadata": {
      "byteLimit": 2048000,
      "rowLimit": 10000
     },
     "inputWidgets": {},
     "nuid": "945772df-9573-4237-96f2-39bd4b970541",
     "showTitle": false,
     "tableResultSettingsMap": {},
     "title": ""
    }
   },
   "outputs": [],
   "source": [
    "loans_raw_df = spark.read.format(\"csv\")\\\n",
    "    .option(\"header\", True)\\\n",
    "    .schema(loans_schema)\\\n",
    "    .load(\"dbfs:/FileStore/tables/lendingclubproject/raw/loans_data_csv\")"
   ]
  },
  {
   "cell_type": "code",
   "execution_count": 0,
   "metadata": {
    "application/vnd.databricks.v1+cell": {
     "cellMetadata": {
      "byteLimit": 2048000,
      "rowLimit": 10000
     },
     "inputWidgets": {},
     "nuid": "dda75d79-f5a8-4f33-ad03-c529c119ea8f",
     "showTitle": false,
     "tableResultSettingsMap": {},
     "title": ""
    }
   },
   "outputs": [
    {
     "output_type": "stream",
     "name": "stdout",
     "output_type": "stream",
     "text": [
      "root\n |-- loan_id: string (nullable = true)\n |-- member_id: string (nullable = true)\n |-- loan_amount: float (nullable = true)\n |-- funded_amount: float (nullable = true)\n |-- loan_term_months: string (nullable = true)\n |-- interest_rate: float (nullable = true)\n |-- monthly_installment: float (nullable = true)\n |-- issue_date: string (nullable = true)\n |-- loan_status: string (nullable = true)\n |-- loan_purpose: string (nullable = true)\n |-- loan_title: string (nullable = true)\n\n"
     ]
    }
   ],
   "source": [
    "loans_raw_df.printSchema()"
   ]
  },
  {
   "cell_type": "code",
   "execution_count": 0,
   "metadata": {
    "application/vnd.databricks.v1+cell": {
     "cellMetadata": {
      "byteLimit": 2048000,
      "rowLimit": 10000
     },
     "inputWidgets": {},
     "nuid": "995121b0-f31e-4298-8651-6854c4b6c2cf",
     "showTitle": false,
     "tableResultSettingsMap": {},
     "title": ""
    }
   },
   "outputs": [
    {
     "output_type": "stream",
     "name": "stdout",
     "output_type": "stream",
     "text": [
      "+--------+--------------------+-----------+-------------+----------------+-------------+-------------------+----------+-----------+------------------+--------------------+--------------------+\n| loan_id|           member_id|loan_amount|funded_amount|loan_term_months|interest_rate|monthly_installment|issue_date|loan_status|      loan_purpose|          loan_title|       ingested_date|\n+--------+--------------------+-----------+-------------+----------------+-------------+-------------------+----------+-----------+------------------+--------------------+--------------------+\n|68407277|6d5091b3fcaaeb4ea...|     3600.0|       3600.0|       36 months|        13.99|             123.03|  Dec-2015| Fully Paid|debt_consolidation|  Debt consolidation|2025-09-11 06:17:...|\n|68355089|b5e7938b0a2da4cea...|    24700.0|      24700.0|       36 months|        11.99|             820.28|  Dec-2015| Fully Paid|    small_business|            Business|2025-09-11 06:17:...|\n|68341763|91060b858433e8a61...|    20000.0|      20000.0|       60 months|        10.78|             432.66|  Dec-2015| Fully Paid|  home_improvement|                null|2025-09-11 06:17:...|\n|66310712|cab1fa9f533688b0a...|    35000.0|      35000.0|       60 months|        14.85|              829.9|  Dec-2015|    Current|debt_consolidation|  Debt consolidation|2025-09-11 06:17:...|\n|68476807|f74e401c1ab0adf78...|    10400.0|      10400.0|       60 months|        22.45|             289.91|  Dec-2015| Fully Paid|    major_purchase|      Major purchase|2025-09-11 06:17:...|\n|68426831|8aef4bb29d609d8d6...|    11950.0|      11950.0|       36 months|        13.44|             405.18|  Dec-2015| Fully Paid|debt_consolidation|  Debt consolidation|2025-09-11 06:17:...|\n|68476668|538b4653da3b1e814...|    20000.0|      20000.0|       36 months|         9.17|             637.58|  Dec-2015| Fully Paid|debt_consolidation|  Debt consolidation|2025-09-11 06:17:...|\n|67275481|b24d55f21390533c5...|    20000.0|      20000.0|       36 months|         8.49|             631.26|  Dec-2015| Fully Paid|    major_purchase|      Major purchase|2025-09-11 06:17:...|\n|68466926|1035c5401b0ca76d0...|    10000.0|      10000.0|       36 months|         6.49|             306.45|  Dec-2015| Fully Paid|       credit_card|Credit card refin...|2025-09-11 06:17:...|\n|68616873|cb0f1777593e77909...|     8000.0|       8000.0|       36 months|        11.48|             263.74|  Dec-2015| Fully Paid|       credit_card|Credit card refin...|2025-09-11 06:17:...|\n+--------+--------------------+-----------+-------------+----------------+-------------+-------------------+----------+-----------+------------------+--------------------+--------------------+\nonly showing top 10 rows\n\n"
     ]
    }
   ],
   "source": [
    "from pyspark.sql.functions import current_timestamp\n",
    "\n",
    "loans_ingested_df = loans_raw_df.withColumn(\"ingested_date\", current_timestamp())\n",
    "loans_ingested_df.show(10)\n"
   ]
  },
  {
   "cell_type": "code",
   "execution_count": 0,
   "metadata": {
    "application/vnd.databricks.v1+cell": {
     "cellMetadata": {
      "byteLimit": 2048000,
      "rowLimit": 10000
     },
     "inputWidgets": {},
     "nuid": "80d30e1c-24d5-41e0-9105-10db509c04d9",
     "showTitle": false,
     "tableResultSettingsMap": {},
     "title": ""
    }
   },
   "outputs": [],
   "source": [
    "loans_ingested_df.createOrReplaceTempView(\"loans\")"
   ]
  },
  {
   "cell_type": "code",
   "execution_count": 0,
   "metadata": {
    "application/vnd.databricks.v1+cell": {
     "cellMetadata": {
      "byteLimit": 2048000,
      "rowLimit": 10000
     },
     "inputWidgets": {},
     "nuid": "98b588f2-b31a-4e0d-867f-aeb02e78b3b5",
     "showTitle": false,
     "tableResultSettingsMap": {},
     "title": ""
    }
   },
   "outputs": [
    {
     "output_type": "stream",
     "name": "stdout",
     "output_type": "stream",
     "text": [
      "+--------+\n|count(1)|\n+--------+\n| 2260701|\n+--------+\n\n"
     ]
    }
   ],
   "source": [
    "spark.sql(\"select count(*)from loans\").show()"
   ]
  },
  {
   "cell_type": "code",
   "execution_count": 0,
   "metadata": {
    "application/vnd.databricks.v1+cell": {
     "cellMetadata": {
      "byteLimit": 2048000,
      "rowLimit": 10000
     },
     "inputWidgets": {},
     "nuid": "4682ff83-d244-4e2b-88b0-d8f6e69cdde4",
     "showTitle": false,
     "tableResultSettingsMap": {},
     "title": ""
    }
   },
   "outputs": [
    {
     "output_type": "stream",
     "name": "stdout",
     "output_type": "stream",
     "text": [
      "+--------+\n|count(1)|\n+--------+\n|      33|\n+--------+\n\n"
     ]
    }
   ],
   "source": [
    "spark.sql(\"select count(*)from loans where loan_amount is null \").show()"
   ]
  },
  {
   "cell_type": "code",
   "execution_count": 0,
   "metadata": {
    "application/vnd.databricks.v1+cell": {
     "cellMetadata": {
      "byteLimit": 2048000,
      "rowLimit": 10000
     },
     "inputWidgets": {},
     "nuid": "ac1c0f34-e655-4faf-a137-84d61ed1e896",
     "showTitle": false,
     "tableResultSettingsMap": {},
     "title": ""
    }
   },
   "outputs": [],
   "source": [
    "columns_to_check = [\"loan_amount\", \"funded_amount\", \"loan_term_months\",\n",
    " \"interest_rate\",\n",
    " \"monthly_installment\",\"issue_date\",\"loan_status\",\"loan_purpose\"]\n",
    "\n",
    "loans_null_check_df = loans_ingested_df.dropna(subset= columns_to_check)"
   ]
  },
  {
   "cell_type": "code",
   "execution_count": 0,
   "metadata": {
    "application/vnd.databricks.v1+cell": {
     "cellMetadata": {
      "byteLimit": 2048000,
      "rowLimit": 10000
     },
     "inputWidgets": {},
     "nuid": "2cc3b42a-5187-4f28-8bc6-4e374b4c28e9",
     "showTitle": false,
     "tableResultSettingsMap": {},
     "title": ""
    }
   },
   "outputs": [
    {
     "output_type": "stream",
     "name": "stdout",
     "output_type": "stream",
     "text": [
      "Out[37]: 2260701"
     ]
    }
   ],
   "source": [
    "loans_ingested_df.count()"
   ]
  },
  {
   "cell_type": "code",
   "execution_count": 0,
   "metadata": {
    "application/vnd.databricks.v1+cell": {
     "cellMetadata": {
      "byteLimit": 2048000,
      "rowLimit": 10000
     },
     "inputWidgets": {},
     "nuid": "0a10cbe3-190e-48af-9d1c-92f3087b1e84",
     "showTitle": false,
     "tableResultSettingsMap": {},
     "title": ""
    }
   },
   "outputs": [
    {
     "output_type": "stream",
     "name": "stdout",
     "output_type": "stream",
     "text": [
      "Out[35]: 2260667"
     ]
    }
   ],
   "source": [
    "loans_null_check_df.count()"
   ]
  },
  {
   "cell_type": "code",
   "execution_count": 0,
   "metadata": {
    "application/vnd.databricks.v1+cell": {
     "cellMetadata": {
      "byteLimit": 2048000,
      "rowLimit": 10000
     },
     "inputWidgets": {},
     "nuid": "a690564c-d587-464e-a39c-b6f9b12be72d",
     "showTitle": false,
     "tableResultSettingsMap": {},
     "title": ""
    }
   },
   "outputs": [],
   "source": [
    "\n",
    "loans_null_check_df.createOrReplaceTempView(\"loans\")"
   ]
  },
  {
   "cell_type": "code",
   "execution_count": 0,
   "metadata": {
    "application/vnd.databricks.v1+cell": {
     "cellMetadata": {
      "byteLimit": 2048000,
      "rowLimit": 10000
     },
     "inputWidgets": {},
     "nuid": "d5d5fb8c-6503-4758-a398-81558ccfbaea",
     "showTitle": false,
     "tableResultSettingsMap": {},
     "title": ""
    }
   },
   "outputs": [],
   "source": [
    "from pyspark.sql.functions import regexp_replace, col\n",
    "loans_cleaned_df = loans_null_check_df.withColumn(\n",
    "    \"loan_term_months\", regexp_replace(col(\"loan_term_months\"),\" months\",\"\").cast(\"integer\")\n",
    "\n",
    ")"
   ]
  },
  {
   "cell_type": "code",
   "execution_count": 0,
   "metadata": {
    "application/vnd.databricks.v1+cell": {
     "cellMetadata": {
      "byteLimit": 2048000,
      "rowLimit": 10000
     },
     "inputWidgets": {},
     "nuid": "a1aff681-3894-4916-b8dc-21372fc0c307",
     "showTitle": false,
     "tableResultSettingsMap": {},
     "title": ""
    }
   },
   "outputs": [
    {
     "output_type": "stream",
     "name": "stdout",
     "output_type": "stream",
     "text": [
      "+--------+--------------------+-----------+-------------+----------------+-------------+-------------------+----------+-----------+------------------+--------------------+--------------------+---------------+\n| loan_id|           member_id|loan_amount|funded_amount|loan_term_months|interest_rate|monthly_installment|issue_date|loan_status|      loan_purpose|          loan_title|       ingested_date|loan_term_years|\n+--------+--------------------+-----------+-------------+----------------+-------------+-------------------+----------+-----------+------------------+--------------------+--------------------+---------------+\n|68407277|6d5091b3fcaaeb4ea...|     3600.0|       3600.0|              36|        13.99|             123.03|  Dec-2015| Fully Paid|debt_consolidation|  Debt consolidation|2025-09-11 06:40:...|              3|\n|68355089|b5e7938b0a2da4cea...|    24700.0|      24700.0|              36|        11.99|             820.28|  Dec-2015| Fully Paid|    small_business|            Business|2025-09-11 06:40:...|              3|\n|68341763|91060b858433e8a61...|    20000.0|      20000.0|              60|        10.78|             432.66|  Dec-2015| Fully Paid|  home_improvement|                null|2025-09-11 06:40:...|              5|\n|66310712|cab1fa9f533688b0a...|    35000.0|      35000.0|              60|        14.85|              829.9|  Dec-2015|    Current|debt_consolidation|  Debt consolidation|2025-09-11 06:40:...|              5|\n|68476807|f74e401c1ab0adf78...|    10400.0|      10400.0|              60|        22.45|             289.91|  Dec-2015| Fully Paid|    major_purchase|      Major purchase|2025-09-11 06:40:...|              5|\n|68426831|8aef4bb29d609d8d6...|    11950.0|      11950.0|              36|        13.44|             405.18|  Dec-2015| Fully Paid|debt_consolidation|  Debt consolidation|2025-09-11 06:40:...|              3|\n|68476668|538b4653da3b1e814...|    20000.0|      20000.0|              36|         9.17|             637.58|  Dec-2015| Fully Paid|debt_consolidation|  Debt consolidation|2025-09-11 06:40:...|              3|\n|67275481|b24d55f21390533c5...|    20000.0|      20000.0|              36|         8.49|             631.26|  Dec-2015| Fully Paid|    major_purchase|      Major purchase|2025-09-11 06:40:...|              3|\n|68466926|1035c5401b0ca76d0...|    10000.0|      10000.0|              36|         6.49|             306.45|  Dec-2015| Fully Paid|       credit_card|Credit card refin...|2025-09-11 06:40:...|              3|\n|68616873|cb0f1777593e77909...|     8000.0|       8000.0|              36|        11.48|             263.74|  Dec-2015| Fully Paid|       credit_card|Credit card refin...|2025-09-11 06:40:...|              3|\n|68356421|a962f4d59caec5fa1...|    22400.0|      22400.0|              60|        12.88|              508.3|  Dec-2015|    Current|debt_consolidation|  Debt consolidation|2025-09-11 06:40:...|              5|\n|68426545|e7592ab57b3afd9f1...|    16000.0|      16000.0|              60|        12.88|             363.07|  Dec-2015|    Current|debt_consolidation|  Debt consolidation|2025-09-11 06:40:...|              5|\n|68338832|603afa9d1be879b7b...|     1400.0|       1400.0|              36|        12.88|               47.1|  Dec-2015| Fully Paid|             other|                null|2025-09-11 06:40:...|              3|\n|66624733|9fe2d59ddf2a4f37e...|    18000.0|      18000.0|              60|        19.48|              471.7|  Dec-2015|Charged Off|debt_consolidation|  Debt consolidation|2025-09-11 06:40:...|              5|\n|68466961|23857480ccf555ce4...|    28000.0|      28000.0|              36|         6.49|             858.05|  Dec-2015| Fully Paid|debt_consolidation|  Debt consolidation|2025-09-11 06:40:...|              3|\n|68354783|7c69d5f36fdabf6e1...|     9600.0|       9600.0|              36|         7.49|             298.58|  Dec-2015| Fully Paid|       credit_card|Credit card refin...|2025-09-11 06:40:...|              3|\n|68466916|08bf9e080503b0113...|    25000.0|      25000.0|              36|         7.49|             777.55|  Dec-2015| Fully Paid|debt_consolidation|  Debt consolidation|2025-09-11 06:40:...|              3|\n|68577849|1cafb05aa6c894c30...|    18000.0|      18000.0|              60|        11.99|             400.31|  Dec-2015| Fully Paid|debt_consolidation|  Debt consolidation|2025-09-11 06:40:...|              5|\n|68506798|f2c4010f700d8c9c4...|    23000.0|      23000.0|              60|         8.49|             471.77|  Dec-2015|    Current|       credit_card|Credit card refin...|2025-09-11 06:40:...|              5|\n|68495092|05ad4aed7c393035e...|     8650.0|       8650.0|              36|        19.89|             320.99|  Dec-2015| Fully Paid|debt_consolidation|  Debt consolidation|2025-09-11 06:40:...|              3|\n+--------+--------------------+-----------+-------------+----------------+-------------+-------------------+----------+-----------+------------------+--------------------+--------------------+---------------+\nonly showing top 20 rows\n\n"
     ]
    }
   ],
   "source": [
    "from pyspark.sql.functions import regexp_replace, col, round\n",
    "loans_cleaned_df = loans_cleaned_df.withColumn(\n",
    "    \"loan_term_years\", round(col(\"loan_term_months\")/12,2).cast(\"integer\")\n",
    ")\n",
    "loans_cleaned_df.show()"
   ]
  },
  {
   "cell_type": "code",
   "execution_count": 0,
   "metadata": {
    "application/vnd.databricks.v1+cell": {
     "cellMetadata": {
      "byteLimit": 2048000,
      "rowLimit": 10000
     },
     "inputWidgets": {},
     "nuid": "b26835fb-d98c-41ca-8b09-eeedca1562af",
     "showTitle": false,
     "tableResultSettingsMap": {},
     "title": ""
    }
   },
   "outputs": [
    {
     "output_type": "stream",
     "name": "stdout",
     "output_type": "stream",
     "text": [
      "root\n |-- loan_id: string (nullable = true)\n |-- member_id: string (nullable = true)\n |-- loan_amount: float (nullable = true)\n |-- funded_amount: float (nullable = true)\n |-- loan_term_months: integer (nullable = true)\n |-- interest_rate: float (nullable = true)\n |-- monthly_installment: float (nullable = true)\n |-- issue_date: string (nullable = true)\n |-- loan_status: string (nullable = true)\n |-- loan_purpose: string (nullable = true)\n |-- loan_title: string (nullable = true)\n |-- ingested_date: timestamp (nullable = false)\n |-- loan_term_years: integer (nullable = true)\n\n"
     ]
    }
   ],
   "source": [
    "loans_cleaned_df.printSchema()"
   ]
  },
  {
   "cell_type": "code",
   "execution_count": 0,
   "metadata": {
    "application/vnd.databricks.v1+cell": {
     "cellMetadata": {
      "byteLimit": 2048000,
      "rowLimit": 10000
     },
     "inputWidgets": {},
     "nuid": "77841d7c-7cdf-4c48-b1ba-62e9f0e695f0",
     "showTitle": false,
     "tableResultSettingsMap": {},
     "title": ""
    }
   },
   "outputs": [],
   "source": [
    "loan_purpose_lookup = [\"debt_consolidation\", \"credit_card\",\n",
    " \"home_improvement\", \"other\", \"major_purchase\", \"medical\", \"small_business\",\n",
    " \"car\", \"vacation\", \"moving\", \"house\", \"wedding\", \"renewable_energy\",\n",
    " \"educational\"]"
   ]
  },
  {
   "cell_type": "code",
   "execution_count": 0,
   "metadata": {
    "application/vnd.databricks.v1+cell": {
     "cellMetadata": {
      "byteLimit": 2048000,
      "rowLimit": 10000
     },
     "inputWidgets": {},
     "nuid": "15949214-52c9-414c-ac28-c5810e629c6d",
     "showTitle": false,
     "tableResultSettingsMap": {},
     "title": ""
    }
   },
   "outputs": [
    {
     "output_type": "stream",
     "name": "stdout",
     "output_type": "stream",
     "text": [
      "+--------+--------------------+-----------+-------------+----------------+-------------+-------------------+----------+-----------+------------------+--------------------+--------------------+---------------+\n| loan_id|           member_id|loan_amount|funded_amount|loan_term_months|interest_rate|monthly_installment|issue_date|loan_status|      loan_purpose|          loan_title|       ingested_date|loan_term_years|\n+--------+--------------------+-----------+-------------+----------------+-------------+-------------------+----------+-----------+------------------+--------------------+--------------------+---------------+\n|68407277|6d5091b3fcaaeb4ea...|     3600.0|       3600.0|              36|        13.99|             123.03|  Dec-2015| Fully Paid|debt_consolidation|  Debt consolidation|2025-09-11 07:59:...|              3|\n|68355089|b5e7938b0a2da4cea...|    24700.0|      24700.0|              36|        11.99|             820.28|  Dec-2015| Fully Paid|    small_business|            Business|2025-09-11 07:59:...|              3|\n|68341763|91060b858433e8a61...|    20000.0|      20000.0|              60|        10.78|             432.66|  Dec-2015| Fully Paid|  home_improvement|                null|2025-09-11 07:59:...|              5|\n|66310712|cab1fa9f533688b0a...|    35000.0|      35000.0|              60|        14.85|              829.9|  Dec-2015|    Current|debt_consolidation|  Debt consolidation|2025-09-11 07:59:...|              5|\n|68476807|f74e401c1ab0adf78...|    10400.0|      10400.0|              60|        22.45|             289.91|  Dec-2015| Fully Paid|    major_purchase|      Major purchase|2025-09-11 07:59:...|              5|\n|68426831|8aef4bb29d609d8d6...|    11950.0|      11950.0|              36|        13.44|             405.18|  Dec-2015| Fully Paid|debt_consolidation|  Debt consolidation|2025-09-11 07:59:...|              3|\n|68476668|538b4653da3b1e814...|    20000.0|      20000.0|              36|         9.17|             637.58|  Dec-2015| Fully Paid|debt_consolidation|  Debt consolidation|2025-09-11 07:59:...|              3|\n|67275481|b24d55f21390533c5...|    20000.0|      20000.0|              36|         8.49|             631.26|  Dec-2015| Fully Paid|    major_purchase|      Major purchase|2025-09-11 07:59:...|              3|\n|68466926|1035c5401b0ca76d0...|    10000.0|      10000.0|              36|         6.49|             306.45|  Dec-2015| Fully Paid|       credit_card|Credit card refin...|2025-09-11 07:59:...|              3|\n|68616873|cb0f1777593e77909...|     8000.0|       8000.0|              36|        11.48|             263.74|  Dec-2015| Fully Paid|       credit_card|Credit card refin...|2025-09-11 07:59:...|              3|\n+--------+--------------------+-----------+-------------+----------------+-------------+-------------------+----------+-----------+------------------+--------------------+--------------------+---------------+\nonly showing top 10 rows\n\n"
     ]
    }
   ],
   "source": [
    "from pyspark.sql.functions import when, col\n",
    "\n",
    "# Assuming loan_purpose_lookup is a list of valid purposes\n",
    "# Example: loan_purpose_lookup = [\"debt_consolidation\", \"credit_card\", \"home_improvement\"]\n",
    "\n",
    "loans_pur_mod = loans_cleaned_df.withColumn(\n",
    "    \"loan_purpose\",\n",
    "    when(col(\"loan_purpose\").isin(loan_purpose_lookup), col(\"loan_purpose\"))\n",
    "    .otherwise(\"other\")\n",
    ")\n",
    "\n",
    "loans_pur_mod.show(10)"
   ]
  },
  {
   "cell_type": "code",
   "execution_count": 0,
   "metadata": {
    "application/vnd.databricks.v1+cell": {
     "cellMetadata": {
      "byteLimit": 2048000,
      "rowLimit": 10000
     },
     "inputWidgets": {},
     "nuid": "bc8cbb9c-a811-4fd0-b880-26a9b3c372fa",
     "showTitle": false,
     "tableResultSettingsMap": {},
     "title": ""
    }
   },
   "outputs": [],
   "source": [
    "loans_pur_mod.write.format(\"parquet\")\\\n",
    "    .mode(\"overwrite\")\\\n",
    "    .option(\"path\", \"dbfs:/FileStore/tables/lendingclubproject/cleaned/loans_data_parquet\")\\\n",
    "    .save()"
   ]
  },
  {
   "cell_type": "code",
   "execution_count": 0,
   "metadata": {
    "application/vnd.databricks.v1+cell": {
     "cellMetadata": {
      "byteLimit": 2048000,
      "rowLimit": 10000
     },
     "inputWidgets": {},
     "nuid": "cf94aa92-459e-4135-be79-f680b6f52036",
     "showTitle": false,
     "tableResultSettingsMap": {},
     "title": ""
    }
   },
   "outputs": [
    {
     "output_type": "display_data",
     "data": {
      "text/html": [
       "<style scoped>\n",
       "  .table-result-container {\n",
       "    max-height: 300px;\n",
       "    overflow: auto;\n",
       "  }\n",
       "  table, th, td {\n",
       "    border: 1px solid black;\n",
       "    border-collapse: collapse;\n",
       "  }\n",
       "  th, td {\n",
       "    padding: 5px;\n",
       "  }\n",
       "  th {\n",
       "    text-align: left;\n",
       "  }\n",
       "</style><div class='table-result-container'><table class='table-result'><thead style='background-color: white'><tr><th>path</th><th>name</th><th>size</th><th>modificationTime</th></tr></thead><tbody><tr><td>dbfs:/FileStore/tables/lendingclubproject/cleaned/customers_data_parquet/</td><td>customers_data_parquet/</td><td>0</td><td>0</td></tr><tr><td>dbfs:/FileStore/tables/lendingclubproject/cleaned/loans_data_parquet/</td><td>loans_data_parquet/</td><td>0</td><td>0</td></tr></tbody></table></div>"
      ]
     },
     "metadata": {
      "application/vnd.databricks.v1+output": {
       "addedWidgets": {},
       "aggData": [],
       "aggError": "",
       "aggOverflow": false,
       "aggSchema": [],
       "aggSeriesLimitReached": false,
       "aggType": "",
       "arguments": {},
       "columnCustomDisplayInfos": {},
       "data": [
        [
         "dbfs:/FileStore/tables/lendingclubproject/cleaned/customers_data_parquet/",
         "customers_data_parquet/",
         0,
         0
        ],
        [
         "dbfs:/FileStore/tables/lendingclubproject/cleaned/loans_data_parquet/",
         "loans_data_parquet/",
         0,
         0
        ]
       ],
       "datasetInfos": [],
       "dbfsResultPath": null,
       "isJsonSchema": true,
       "metadata": {
        "isDbfsCommandResult": false
       },
       "overflow": false,
       "plotOptions": {
        "customPlotOptions": {},
        "displayType": "table",
        "pivotAggregation": null,
        "pivotColumns": null,
        "xColumns": null,
        "yColumns": null
       },
       "removedWidgets": [],
       "schema": [
        {
         "metadata": "{}",
         "name": "path",
         "type": "\"string\""
        },
        {
         "metadata": "{}",
         "name": "name",
         "type": "\"string\""
        },
        {
         "metadata": "{}",
         "name": "size",
         "type": "\"long\""
        },
        {
         "metadata": "{}",
         "name": "modificationTime",
         "type": "\"long\""
        }
       ],
       "type": "table"
      }
     },
     "output_type": "display_data"
    }
   ],
   "source": [
    "%fs ls dbfs:/FileStore/tables/lendingclubproject/cleaned/"
   ]
  },
  {
   "cell_type": "code",
   "execution_count": 0,
   "metadata": {
    "application/vnd.databricks.v1+cell": {
     "cellMetadata": {},
     "inputWidgets": {},
     "nuid": "70ad6291-f0d7-44e0-a469-640657f9629c",
     "showTitle": false,
     "tableResultSettingsMap": {},
     "title": ""
    }
   },
   "outputs": [],
   "source": []
  }
 ],
 "metadata": {
  "application/vnd.databricks.v1+notebook": {
   "computePreferences": null,
   "dashboards": [],
   "environmentMetadata": {
    "base_environment": "",
    "environment_version": "1"
   },
   "inputWidgetPreferences": null,
   "language": "python",
   "notebookMetadata": {
    "mostRecentlyExecutedCommandWithImplicitDF": {
     "commandId": 455358622297859,
     "dataframes": [
      "_sqldf"
     ]
    },
    "pythonIndentUnit": 4
   },
   "notebookName": "lending_club_loans_cleaned_data",
   "widgets": {}
  }
 },
 "nbformat": 4,
 "nbformat_minor": 0
}