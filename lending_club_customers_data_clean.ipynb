{
 "cells": [
  {
   "cell_type": "code",
   "execution_count": 0,
   "metadata": {
    "application/vnd.databricks.v1+cell": {
     "cellMetadata": {
      "byteLimit": 2048000,
      "rowLimit": 10000
     },
     "inputWidgets": {},
     "nuid": "a2a0ecd4-7a6a-4260-9e82-1711b1036186",
     "showTitle": false,
     "tableResultSettingsMap": {},
     "title": ""
    }
   },
   "outputs": [],
   "source": [
    "customers_data_path =\"dbfs:/FileStore/tables/lendingclubproject/raw/customers_data_csv\"\n",
    "loans_path=\"dbfs:/FileStore/tables/lendingclubproject/raw/loans_data_csv\"\n",
    "loans_repayment_path =\"/FileStore/tables/lendingclubproject/raw/loans_repayments_csv\"\n",
    "loans_default_path =\"dbfs:/FileStore/tables/lendingclubproject/raw/loans_defaulters_csv\"\n"
   ]
  },
  {
   "cell_type": "code",
   "execution_count": 0,
   "metadata": {
    "application/vnd.databricks.v1+cell": {
     "cellMetadata": {
      "byteLimit": 2048000,
      "rowLimit": 10000
     },
     "inputWidgets": {},
     "nuid": "e71b2c3e-2509-4a7f-9370-2c59539345db",
     "showTitle": false,
     "tableResultSettingsMap": {},
     "title": ""
    }
   },
   "outputs": [],
   "source": [
    "from pyspark.sql import SparkSession"
   ]
  },
  {
   "cell_type": "code",
   "execution_count": 0,
   "metadata": {
    "application/vnd.databricks.v1+cell": {
     "cellMetadata": {
      "byteLimit": 2048000,
      "rowLimit": 10000
     },
     "inputWidgets": {},
     "nuid": "3e93c2b1-c31c-4e4c-b083-864eddba864c",
     "showTitle": false,
     "tableResultSettingsMap": {},
     "title": ""
    }
   },
   "outputs": [
    {
     "output_type": "stream",
     "name": "stdout",
     "output_type": "stream",
     "text": [
      "3.3.2\n"
     ]
    }
   ],
   "source": [
    "spark = SparkSession.builder \\\n",
    "    .appName(\"MySparkApp\") \\\n",
    "    .master(\"local[*]\") \\\n",
    "    .getOrCreate()\n",
    "\n",
    "# Check Spark session\n",
    "print(spark.version)"
   ]
  },
  {
   "cell_type": "code",
   "execution_count": 0,
   "metadata": {
    "application/vnd.databricks.v1+cell": {
     "cellMetadata": {
      "byteLimit": 2048000,
      "rowLimit": 10000
     },
     "inputWidgets": {},
     "nuid": "42c41dc0-2cfc-4698-940e-5fda3cb8687e",
     "showTitle": false,
     "tableResultSettingsMap": {},
     "title": ""
    }
   },
   "outputs": [],
   "source": [
    "customer_schema = 'member_id string, emp_title string, emp_length string, home_ownership string, annual_inc float, addr_state string, zip_code string, country string, grade string, sub_grade string, verification_status string, tot_hi_cred_lim float, application_type string, annual_inc_joint float, verification_status_joint string'"
   ]
  },
  {
   "cell_type": "code",
   "execution_count": 0,
   "metadata": {
    "application/vnd.databricks.v1+cell": {
     "cellMetadata": {
      "byteLimit": 2048000,
      "rowLimit": 10000
     },
     "inputWidgets": {},
     "nuid": "13f0e184-4632-41ec-a544-4daf34b5a68a",
     "showTitle": false,
     "tableResultSettingsMap": {},
     "title": ""
    }
   },
   "outputs": [],
   "source": [
    "customers_raw_df = (\n",
    "    spark.read.format(\"csv\")\n",
    ".option(\"header\", True)\n",
    ".schema(customer_schema)\n",
    ".load(customers_data_path)\n",
    ")\n"
   ]
  },
  {
   "cell_type": "code",
   "execution_count": 0,
   "metadata": {
    "application/vnd.databricks.v1+cell": {
     "cellMetadata": {
      "byteLimit": 2048000,
      "rowLimit": 10000
     },
     "inputWidgets": {},
     "nuid": "5f7bcea6-f0e5-4185-a09b-f7bec538c2d6",
     "showTitle": false,
     "tableResultSettingsMap": {},
     "title": ""
    }
   },
   "outputs": [
    {
     "output_type": "stream",
     "name": "stdout",
     "output_type": "stream",
     "text": [
      "root\n |-- member_id: string (nullable = true)\n |-- emp_title: string (nullable = true)\n |-- emp_length: string (nullable = true)\n |-- home_ownership: string (nullable = true)\n |-- annual_inc: float (nullable = true)\n |-- addr_state: string (nullable = true)\n |-- zip_code: string (nullable = true)\n |-- country: string (nullable = true)\n |-- grade: string (nullable = true)\n |-- sub_grade: string (nullable = true)\n |-- verification_status: string (nullable = true)\n |-- tot_hi_cred_lim: float (nullable = true)\n |-- application_type: string (nullable = true)\n |-- annual_inc_joint: float (nullable = true)\n |-- verification_status_joint: string (nullable = true)\n\n"
     ]
    }
   ],
   "source": [
    "customers_raw_df.printSchema()"
   ]
  },
  {
   "cell_type": "code",
   "execution_count": 0,
   "metadata": {
    "application/vnd.databricks.v1+cell": {
     "cellMetadata": {
      "byteLimit": 2048000,
      "rowLimit": 10000
     },
     "inputWidgets": {},
     "nuid": "6935d761-6a41-4ec9-8ddb-d689d9d5e9e9",
     "showTitle": false,
     "tableResultSettingsMap": {},
     "title": ""
    }
   },
   "outputs": [],
   "source": [
    "columns_renamed_dict ={\n",
    "    \"annual_inc\": \"annual_income\",\n",
    "    \"addr_state\": \"address_state\",\n",
    "    \"zip_code\": \"address_zip_code\",\n",
    "    \"country\": \"address_country\",\n",
    "    \"tot_hi_cred_lim\": \"total_high_credit_limit\",\n",
    "    \"annual_inc_joint\":\"join_annual_income\"\n",
    "}\n",
    "\n",
    "# Apply renames\n",
    "\n",
    "for old_name, new_name in columns_renamed_dict.items():\n",
    "    customers_df_renamed = customers_df_renamed.withColumnRenamed(old_name, new_name)\n",
    "\n",
    "\n"
   ]
  },
  {
   "cell_type": "code",
   "execution_count": 0,
   "metadata": {
    "application/vnd.databricks.v1+cell": {
     "cellMetadata": {
      "byteLimit": 2048000,
      "rowLimit": 10000
     },
     "inputWidgets": {},
     "nuid": "de7a68af-6da3-40ba-aad4-52ca5fba3895",
     "showTitle": false,
     "tableResultSettingsMap": {},
     "title": ""
    }
   },
   "outputs": [
    {
     "output_type": "stream",
     "name": "stdout",
     "output_type": "stream",
     "text": [
      "root\n |-- member_id: string (nullable = true)\n |-- emp_title: string (nullable = true)\n |-- emp_length: string (nullable = true)\n |-- home_ownership: string (nullable = true)\n |-- annual_income: float (nullable = true)\n |-- address_state: string (nullable = true)\n |-- address_zip_code: string (nullable = true)\n |-- address_country: string (nullable = true)\n |-- grade: string (nullable = true)\n |-- sub_grade: string (nullable = true)\n |-- verification_status: string (nullable = true)\n |-- total_high_credit_limit: float (nullable = true)\n |-- application_type: string (nullable = true)\n |-- join_annual_income: float (nullable = true)\n |-- verification_status_joint: string (nullable = true)\n\n"
     ]
    }
   ],
   "source": [
    "customers_df_renamed.printSchema()\n"
   ]
  },
  {
   "cell_type": "code",
   "execution_count": 0,
   "metadata": {
    "application/vnd.databricks.v1+cell": {
     "cellMetadata": {
      "byteLimit": 2048000,
      "rowLimit": 10000
     },
     "inputWidgets": {},
     "nuid": "0a86ec65-036d-4d60-b4cd-edfc91634ef2",
     "showTitle": false,
     "tableResultSettingsMap": {},
     "title": ""
    }
   },
   "outputs": [],
   "source": [
    "from pyspark.sql.functions import current_timestamp\n",
    "\n",
    "customers_ingested_df = customers_df_renamed.withColumn(\"ingest_date\", current_timestamp())"
   ]
  },
  {
   "cell_type": "code",
   "execution_count": 0,
   "metadata": {
    "application/vnd.databricks.v1+cell": {
     "cellMetadata": {
      "byteLimit": 2048000,
      "rowLimit": 10000
     },
     "inputWidgets": {},
     "nuid": "834339d0-3d25-4411-a624-d29798700ea8",
     "showTitle": false,
     "tableResultSettingsMap": {},
     "title": ""
    }
   },
   "outputs": [
    {
     "output_type": "stream",
     "name": "stdout",
     "output_type": "stream",
     "text": [
      "root\n |-- member_id: string (nullable = true)\n |-- emp_title: string (nullable = true)\n |-- emp_length: string (nullable = true)\n |-- home_ownership: string (nullable = true)\n |-- annual_income: float (nullable = true)\n |-- address_state: string (nullable = true)\n |-- address_zip_code: string (nullable = true)\n |-- address_country: string (nullable = true)\n |-- grade: string (nullable = true)\n |-- sub_grade: string (nullable = true)\n |-- verification_status: string (nullable = true)\n |-- total_high_credit_limit: float (nullable = true)\n |-- application_type: string (nullable = true)\n |-- join_annual_income: float (nullable = true)\n |-- verification_status_joint: string (nullable = true)\n |-- ingest_date: timestamp (nullable = false)\n\n"
     ]
    }
   ],
   "source": [
    "customers_ingested_df.printSchema()"
   ]
  },
  {
   "cell_type": "code",
   "execution_count": 0,
   "metadata": {
    "application/vnd.databricks.v1+cell": {
     "cellMetadata": {
      "byteLimit": 2048000,
      "rowLimit": 10000
     },
     "inputWidgets": {},
     "nuid": "1ac72c32-9b17-4eb6-ba0d-19931b8523e8",
     "showTitle": false,
     "tableResultSettingsMap": {},
     "title": ""
    }
   },
   "outputs": [
    {
     "output_type": "stream",
     "name": "stdout",
     "output_type": "stream",
     "text": [
      "Out[53]: 2260701"
     ]
    }
   ],
   "source": [
    "#remove duplicates\n",
    "customers_ingested_df.count()"
   ]
  },
  {
   "cell_type": "code",
   "execution_count": 0,
   "metadata": {
    "application/vnd.databricks.v1+cell": {
     "cellMetadata": {
      "byteLimit": 2048000,
      "rowLimit": 10000
     },
     "inputWidgets": {},
     "nuid": "d0d2ea5c-2cf9-4ed0-a40b-ae1460a8243a",
     "showTitle": false,
     "tableResultSettingsMap": {},
     "title": ""
    }
   },
   "outputs": [
    {
     "output_type": "stream",
     "name": "stdout",
     "output_type": "stream",
     "text": [
      "Out[57]: 2260638"
     ]
    }
   ],
   "source": [
    "customers_distinct = customers_ingested_df.distinct()\n",
    "customers_distinct.count()"
   ]
  },
  {
   "cell_type": "code",
   "execution_count": 0,
   "metadata": {
    "application/vnd.databricks.v1+cell": {
     "cellMetadata": {
      "byteLimit": 2048000,
      "rowLimit": 10000
     },
     "inputWidgets": {},
     "nuid": "92e9b5b0-10d3-4cb3-98a9-2642a75a8361",
     "showTitle": false,
     "tableResultSettingsMap": {},
     "title": ""
    }
   },
   "outputs": [
    {
     "output_type": "stream",
     "name": "stdout",
     "output_type": "stream",
     "text": [
      "== Physical Plan ==\nAdaptiveSparkPlan isFinalPlan=true\n+- == Final Plan ==\n   *(2) HashAggregate(keys=[emp_title#311, zip_code#316, home_ownership#313, sub_grade#319, tot_hi_cred_lim#321, emp_length#312, verification_status#320, country#317, join_annual_income#808, grade#318, addr_state#315, 2025-09-11 04:38:40.591#1459, member_id#310, annual_inc#314, application_type#322, verification_status_joint#324], functions=[])\n   +- AQEShuffleRead coalesced\n      +- ShuffleQueryStage 0, Statistics(sizeInBytes=659.9 MiB, rowCount=2.26E+6, isRuntime=true)\n         +- Exchange hashpartitioning(emp_title#311, zip_code#316, home_ownership#313, sub_grade#319, tot_hi_cred_lim#321, emp_length#312, verification_status#320, country#317, join_annual_income#808, grade#318, addr_state#315, 2025-09-11 04:38:40.591#1459, member_id#310, annual_inc#314, application_type#322, verification_status_joint#324, 200), ENSURE_REQUIREMENTS, [plan_id=798]\n            +- *(1) HashAggregate(keys=[emp_title#311, zip_code#316, home_ownership#313, sub_grade#319, knownfloatingpointnormalized(normalizenanandzero(tot_hi_cred_lim#321)) AS tot_hi_cred_lim#321, emp_length#312, verification_status#320, country#317, knownfloatingpointnormalized(normalizenanandzero(join_annual_income#808)) AS join_annual_income#808, grade#318, addr_state#315, 2025-09-11 04:38:40.591 AS 2025-09-11 04:38:40.591#1459, member_id#310, knownfloatingpointnormalized(normalizenanandzero(annual_inc#314)) AS annual_inc#314, application_type#322, verification_status_joint#324], functions=[])\n               +- *(1) Project [member_id#310, emp_title#311, emp_length#312, home_ownership#313, annual_inc#314, addr_state#315, zip_code#316, country#317, grade#318, sub_grade#319, verification_status#320, tot_hi_cred_lim#321, application_type#322, annual_inc_joint#323 AS join_annual_income#808, verification_status_joint#324]\n                  +- FileScan csv [member_id#310,emp_title#311,emp_length#312,home_ownership#313,annual_inc#314,addr_state#315,zip_code#316,country#317,grade#318,sub_grade#319,verification_status#320,tot_hi_cred_lim#321,application_type#322,annual_inc_joint#323,verification_status_joint#324] Batched: false, DataFilters: [], Format: CSV, Location: InMemoryFileIndex(1 paths)[dbfs:/FileStore/tables/lendingclubproject/raw/customers_data_csv], PartitionFilters: [], PushedFilters: [], ReadSchema: struct<member_id:string,emp_title:string,emp_length:string,home_ownership:string,annual_inc:float...\n+- == Initial Plan ==\n   HashAggregate(keys=[emp_title#311, zip_code#316, home_ownership#313, sub_grade#319, tot_hi_cred_lim#321, emp_length#312, verification_status#320, country#317, join_annual_income#808, grade#318, addr_state#315, 2025-09-11 04:38:40.591#1459, member_id#310, annual_inc#314, application_type#322, verification_status_joint#324], functions=[])\n   +- Exchange hashpartitioning(emp_title#311, zip_code#316, home_ownership#313, sub_grade#319, tot_hi_cred_lim#321, emp_length#312, verification_status#320, country#317, join_annual_income#808, grade#318, addr_state#315, 2025-09-11 04:38:40.591#1459, member_id#310, annual_inc#314, application_type#322, verification_status_joint#324, 200), ENSURE_REQUIREMENTS, [plan_id=577]\n      +- HashAggregate(keys=[emp_title#311, zip_code#316, home_ownership#313, sub_grade#319, knownfloatingpointnormalized(normalizenanandzero(tot_hi_cred_lim#321)) AS tot_hi_cred_lim#321, emp_length#312, verification_status#320, country#317, knownfloatingpointnormalized(normalizenanandzero(join_annual_income#808)) AS join_annual_income#808, grade#318, addr_state#315, 2025-09-11 04:38:40.591 AS 2025-09-11 04:38:40.591#1459, member_id#310, knownfloatingpointnormalized(normalizenanandzero(annual_inc#314)) AS annual_inc#314, application_type#322, verification_status_joint#324], functions=[])\n         +- Project [member_id#310, emp_title#311, emp_length#312, home_ownership#313, annual_inc#314, addr_state#315, zip_code#316, country#317, grade#318, sub_grade#319, verification_status#320, tot_hi_cred_lim#321, application_type#322, annual_inc_joint#323 AS join_annual_income#808, verification_status_joint#324]\n            +- FileScan csv [member_id#310,emp_title#311,emp_length#312,home_ownership#313,annual_inc#314,addr_state#315,zip_code#316,country#317,grade#318,sub_grade#319,verification_status#320,tot_hi_cred_lim#321,application_type#322,annual_inc_joint#323,verification_status_joint#324] Batched: false, DataFilters: [], Format: CSV, Location: InMemoryFileIndex(1 paths)[dbfs:/FileStore/tables/lendingclubproject/raw/customers_data_csv], PartitionFilters: [], PushedFilters: [], ReadSchema: struct<member_id:string,emp_title:string,emp_length:string,home_ownership:string,annual_inc:float...\n\n\n"
     ]
    }
   ],
   "source": [
    "customers_distinct.explain()"
   ]
  },
  {
   "cell_type": "code",
   "execution_count": 0,
   "metadata": {
    "application/vnd.databricks.v1+cell": {
     "cellMetadata": {
      "byteLimit": 2048000,
      "rowLimit": 10000
     },
     "inputWidgets": {},
     "nuid": "dda4763a-a117-44c7-9a43-3b45688efc42",
     "showTitle": false,
     "tableResultSettingsMap": {},
     "title": ""
    }
   },
   "outputs": [],
   "source": [
    "#total rows : 2260701\n",
    "#Distinct Rows: 2260638\n",
    "#remove duplicates\n"
   ]
  },
  {
   "cell_type": "code",
   "execution_count": 0,
   "metadata": {
    "application/vnd.databricks.v1+cell": {
     "cellMetadata": {
      "byteLimit": 2048000,
      "rowLimit": 10000
     },
     "inputWidgets": {},
     "nuid": "55eae66f-f94e-4a2c-906e-f8c9c4ebd189",
     "showTitle": false,
     "tableResultSettingsMap": {},
     "title": ""
    }
   },
   "outputs": [],
   "source": [
    "customers_distinct.createOrReplaceTempView(\"customers\")"
   ]
  },
  {
   "cell_type": "code",
   "execution_count": 0,
   "metadata": {
    "application/vnd.databricks.v1+cell": {
     "cellMetadata": {
      "byteLimit": 2048000,
      "rowLimit": 10000
     },
     "inputWidgets": {},
     "nuid": "a1486435-8f84-49ce-b199-ad2eb0254c67",
     "showTitle": false,
     "tableResultSettingsMap": {},
     "title": ""
    }
   },
   "outputs": [
    {
     "output_type": "stream",
     "name": "stdout",
     "output_type": "stream",
     "text": [
      "+--------------------+--------------------+----------+--------------+-------------+-------------+----------------+---------------+-----+---------+-------------------+-----------------------+----------------+------------------+-------------------------+--------------------+\n|           member_id|           emp_title|emp_length|home_ownership|annual_income|address_state|address_zip_code|address_country|grade|sub_grade|verification_status|total_high_credit_limit|application_type|join_annual_income|verification_status_joint|         ingest_date|\n+--------------------+--------------------+----------+--------------+-------------+-------------+----------------+---------------+-----+---------+-------------------+-----------------------+----------------+------------------+-------------------------+--------------------+\n|f74e401c1ab0adf78...| Contract Specialist|   3 years|      MORTGAGE|     104433.0|           PA|           174xx|            USA|    F|       F1|    Source Verified|               439570.0|      Individual|              null|                     null|2025-09-11 04:52:...|\n|6d5091b3fcaaeb4ea...|             leadman| 10+ years|      MORTGAGE|      55000.0|           PA|           190xx|            USA|    C|       C4|       Not Verified|               178050.0|      Individual|              null|                     null|2025-09-11 04:52:...|\n|8aef4bb29d609d8d6...|Veterinary Tecnician|   4 years|          RENT|      34000.0|           GA|           300xx|            USA|    C|       C3|    Source Verified|                16900.0|      Individual|              null|                     null|2025-09-11 04:52:...|\n|b5e7938b0a2da4cea...|            Engineer| 10+ years|      MORTGAGE|      65000.0|           SD|           577xx|            USA|    C|       C1|       Not Verified|               314017.0|      Individual|              null|                     null|2025-09-11 04:52:...|\n|91060b858433e8a61...|        truck driver| 10+ years|      MORTGAGE|      63000.0|           IL|           605xx|            USA|    B|       B4|       Not Verified|               218418.0|       Joint App|           71000.0|             Not Verified|2025-09-11 04:52:...|\n+--------------------+--------------------+----------+--------------+-------------+-------------+----------------+---------------+-----+---------+-------------------+-----------------------+----------------+------------------+-------------------------+--------------------+\nonly showing top 5 rows\n\n"
     ]
    }
   ],
   "source": [
    "spark.sql(\"select * from customers\").show(5)"
   ]
  },
  {
   "cell_type": "code",
   "execution_count": 0,
   "metadata": {
    "application/vnd.databricks.v1+cell": {
     "cellMetadata": {
      "byteLimit": 2048000,
      "rowLimit": 10000
     },
     "inputWidgets": {},
     "nuid": "edfce555-02b2-4e65-9309-c01442eea10c",
     "showTitle": false,
     "tableResultSettingsMap": {},
     "title": ""
    }
   },
   "outputs": [
    {
     "output_type": "stream",
     "name": "stdout",
     "output_type": "stream",
     "text": [
      "Out[60]: 2260633"
     ]
    }
   ],
   "source": [
    "customers_inc_fil = spark.sql(\"select * from customers where annual_income is not null\")\n",
    "customers_inc_fil.count()"
   ]
  },
  {
   "cell_type": "code",
   "execution_count": 0,
   "metadata": {
    "application/vnd.databricks.v1+cell": {
     "cellMetadata": {
      "byteLimit": 2048000,
      "rowLimit": 10000
     },
     "inputWidgets": {},
     "nuid": "7129915c-12ff-402b-af4b-efc00e2cfadd",
     "showTitle": false,
     "tableResultSettingsMap": {},
     "title": ""
    }
   },
   "outputs": [
    {
     "output_type": "stream",
     "name": "stdout",
     "output_type": "stream",
     "text": [
      "+----------+\n|emp_length|\n+----------+\n|   5 years|\n|   9 years|\n|      null|\n|    1 year|\n|   2 years|\n|   7 years|\n|   8 years|\n|   4 years|\n|   6 years|\n|   3 years|\n| 10+ years|\n|  < 1 year|\n+----------+\n\n"
     ]
    }
   ],
   "source": [
    "customers_inc_fil.createOrReplaceTempView(\"customers\")\n",
    "spark.sql(\"select distinct(emp_length) from customers\").show()\n"
   ]
  },
  {
   "cell_type": "code",
   "execution_count": 0,
   "metadata": {
    "application/vnd.databricks.v1+cell": {
     "cellMetadata": {
      "byteLimit": 2048000,
      "rowLimit": 10000
     },
     "inputWidgets": {},
     "nuid": "1cfa5b44-f734-4b34-bf85-231f2ebb8f98",
     "showTitle": false,
     "tableResultSettingsMap": {},
     "title": ""
    }
   },
   "outputs": [
    {
     "output_type": "stream",
     "name": "stdout",
     "output_type": "stream",
     "text": [
      "+--------------------+--------------------+----------+--------------+-------------+-------------+----------------+---------------+-----+---------+-------------------+-----------------------+----------------+------------------+-------------------------+--------------------+\n|           member_id|           emp_title|emp_length|home_ownership|annual_income|address_state|address_zip_code|address_country|grade|sub_grade|verification_status|total_high_credit_limit|application_type|join_annual_income|verification_status_joint|         ingest_date|\n+--------------------+--------------------+----------+--------------+-------------+-------------+----------------+---------------+-----+---------+-------------------+-----------------------+----------------+------------------+-------------------------+--------------------+\n|b24d55f21390533c5...|         road driver|        10|      MORTGAGE|      85000.0|           SC|           293xx|            USA|    B|       B1|       Not Verified|               193390.0|      Individual|              null|                     null|2025-09-11 05:15:...|\n|b5e7938b0a2da4cea...|            Engineer|        10|      MORTGAGE|      65000.0|           SD|           577xx|            USA|    C|       C1|       Not Verified|               314017.0|      Individual|              null|                     null|2025-09-11 05:15:...|\n|cb0f1777593e77909...|      Vendor liaison|        10|      MORTGAGE|      42000.0|           RI|           029xx|            USA|    B|       B5|       Not Verified|               256513.0|      Individual|              null|                     null|2025-09-11 05:15:...|\n|538b4653da3b1e814...|Vice President of...|        10|      MORTGAGE|     180000.0|           MN|           550xx|            USA|    B|       B2|       Not Verified|               388852.0|      Individual|              null|                     null|2025-09-11 05:15:...|\n|6d5091b3fcaaeb4ea...|             leadman|        10|      MORTGAGE|      55000.0|           PA|           190xx|            USA|    C|       C4|       Not Verified|               178050.0|      Individual|              null|                     null|2025-09-11 05:15:...|\n|f74e401c1ab0adf78...| Contract Specialist|         3|      MORTGAGE|     104433.0|           PA|           174xx|            USA|    F|       F1|    Source Verified|               439570.0|      Individual|              null|                     null|2025-09-11 05:15:...|\n|1035c5401b0ca76d0...|     SERVICE MANAGER|         6|          RENT|      85000.0|           PA|           160xx|            USA|    A|       A2|       Not Verified|                61099.0|      Individual|              null|                     null|2025-09-11 05:15:...|\n|a962f4d59caec5fa1...|  Executive Director|         6|      MORTGAGE|      95000.0|           SC|           290xx|            USA|    C|       C2|       Not Verified|               436841.0|      Individual|              null|                     null|2025-09-11 05:15:...|\n|cab1fa9f533688b0a...|Information Syste...|        10|      MORTGAGE|     110000.0|           NJ|           076xx|            USA|    C|       C5|    Source Verified|               381215.0|      Individual|              null|                     null|2025-09-11 05:15:...|\n|8aef4bb29d609d8d6...|Veterinary Tecnician|         4|          RENT|      34000.0|           GA|           300xx|            USA|    C|       C3|    Source Verified|                16900.0|      Individual|              null|                     null|2025-09-11 05:15:...|\n+--------------------+--------------------+----------+--------------+-------------+-------------+----------------+---------------+-----+---------+-------------------+-----------------------+----------------+------------------+-------------------------+--------------------+\nonly showing top 10 rows\n\n"
     ]
    }
   ],
   "source": [
    "#convert emp_length to integer\n",
    "from pyspark.sql.functions import regexp_replace, col\n",
    "\n",
    "cust_emp_clean = customers_inc_fil.withColumn(\"emp_length\", regexp_replace(col(\"emp_length\"),\"(\\D)\", \"\").cast(\"integer\"))\n",
    "cust_emp_clean.show(10)"
   ]
  },
  {
   "cell_type": "code",
   "execution_count": 0,
   "metadata": {
    "application/vnd.databricks.v1+cell": {
     "cellMetadata": {
      "byteLimit": 2048000,
      "rowLimit": 10000
     },
     "inputWidgets": {},
     "nuid": "89366a11-46b0-4193-9841-dd9dc5c85585",
     "showTitle": false,
     "tableResultSettingsMap": {},
     "title": ""
    }
   },
   "outputs": [
    {
     "output_type": "stream",
     "name": "stdout",
     "output_type": "stream",
     "text": [
      "root\n |-- member_id: string (nullable = true)\n |-- emp_title: string (nullable = true)\n |-- emp_length: integer (nullable = true)\n |-- home_ownership: string (nullable = true)\n |-- annual_income: float (nullable = true)\n |-- address_state: string (nullable = true)\n |-- address_zip_code: string (nullable = true)\n |-- address_country: string (nullable = true)\n |-- grade: string (nullable = true)\n |-- sub_grade: string (nullable = true)\n |-- verification_status: string (nullable = true)\n |-- total_high_credit_limit: float (nullable = true)\n |-- application_type: string (nullable = true)\n |-- join_annual_income: float (nullable = true)\n |-- verification_status_joint: string (nullable = true)\n |-- ingest_date: timestamp (nullable = false)\n\n"
     ]
    }
   ],
   "source": [
    "cust_emp_clean.printSchema()"
   ]
  },
  {
   "cell_type": "code",
   "execution_count": 0,
   "metadata": {
    "application/vnd.databricks.v1+cell": {
     "cellMetadata": {
      "byteLimit": 2048000,
      "rowLimit": 10000
     },
     "inputWidgets": {},
     "nuid": "7e3ab7b3-8041-4a3d-aae7-68bf5eb4dc58",
     "showTitle": false,
     "tableResultSettingsMap": {},
     "title": ""
    }
   },
   "outputs": [
    {
     "output_type": "stream",
     "name": "stdout",
     "output_type": "stream",
     "text": [
      "Out[68]: 146903"
     ]
    }
   ],
   "source": [
    "cust_emp_clean.filter(\"emp_length is null\").count()"
   ]
  },
  {
   "cell_type": "code",
   "execution_count": 0,
   "metadata": {
    "application/vnd.databricks.v1+cell": {
     "cellMetadata": {
      "byteLimit": 2048000,
      "rowLimit": 10000
     },
     "inputWidgets": {},
     "nuid": "50d43c16-bcc7-4c64-98e3-137adfe0502f",
     "showTitle": false,
     "tableResultSettingsMap": {},
     "title": ""
    }
   },
   "outputs": [
    {
     "output_type": "stream",
     "name": "stdout",
     "output_type": "stream",
     "text": [
      "+--------------------+--------------------+----------+--------------+-------------+-------------+----------------+---------------+-----+---------+-------------------+-----------------------+----------------+------------------+-------------------------+--------------------+\n|           member_id|           emp_title|emp_length|home_ownership|annual_income|address_state|address_zip_code|address_country|grade|sub_grade|verification_status|total_high_credit_limit|application_type|join_annual_income|verification_status_joint|         ingest_date|\n+--------------------+--------------------+----------+--------------+-------------+-------------+----------------+---------------+-----+---------+-------------------+-----------------------+----------------+------------------+-------------------------+--------------------+\n|b5e7938b0a2da4cea...|            Engineer|        10|      MORTGAGE|      65000.0|           SD|           577xx|            USA|    C|       C1|       Not Verified|               314017.0|      Individual|              null|                     null|2025-09-11 05:24:...|\n|91060b858433e8a61...|        truck driver|        10|      MORTGAGE|      63000.0|           IL|           605xx|            USA|    B|       B4|       Not Verified|               218418.0|       Joint App|           71000.0|             Not Verified|2025-09-11 05:24:...|\n|1035c5401b0ca76d0...|     SERVICE MANAGER|         6|          RENT|      85000.0|           PA|           160xx|            USA|    A|       A2|       Not Verified|                61099.0|      Individual|              null|                     null|2025-09-11 05:24:...|\n|cab1fa9f533688b0a...|Information Syste...|        10|      MORTGAGE|     110000.0|           NJ|           076xx|            USA|    C|       C5|    Source Verified|               381215.0|      Individual|              null|                     null|2025-09-11 05:24:...|\n|8aef4bb29d609d8d6...|Veterinary Tecnician|         4|          RENT|      34000.0|           GA|           300xx|            USA|    C|       C3|    Source Verified|                16900.0|      Individual|              null|                     null|2025-09-11 05:24:...|\n|cb0f1777593e77909...|      Vendor liaison|        10|      MORTGAGE|      42000.0|           RI|           029xx|            USA|    B|       B5|       Not Verified|               256513.0|      Individual|              null|                     null|2025-09-11 05:24:...|\n|538b4653da3b1e814...|Vice President of...|        10|      MORTGAGE|     180000.0|           MN|           550xx|            USA|    B|       B2|       Not Verified|               388852.0|      Individual|              null|                     null|2025-09-11 05:24:...|\n|a962f4d59caec5fa1...|  Executive Director|         6|      MORTGAGE|      95000.0|           SC|           290xx|            USA|    C|       C2|       Not Verified|               436841.0|      Individual|              null|                     null|2025-09-11 05:24:...|\n|6d5091b3fcaaeb4ea...|             leadman|        10|      MORTGAGE|      55000.0|           PA|           190xx|            USA|    C|       C4|       Not Verified|               178050.0|      Individual|              null|                     null|2025-09-11 05:24:...|\n|b24d55f21390533c5...|         road driver|        10|      MORTGAGE|      85000.0|           SC|           293xx|            USA|    B|       B1|       Not Verified|               193390.0|      Individual|              null|                     null|2025-09-11 05:24:...|\n+--------------------+--------------------+----------+--------------+-------------+-------------+----------------+---------------+-----+---------+-------------------+-----------------------+----------------+------------------+-------------------------+--------------------+\nonly showing top 10 rows\n\n"
     ]
    }
   ],
   "source": [
    "from pyspark.sql.functions import col, avg\n",
    "\n",
    "# 1. Calculate average emp_length (ignoring nulls)\n",
    "avg_emp_length = cust_emp_clean.select(avg(col(\"emp_length\"))).collect()[0][0]\n",
    "\n",
    "# 2. Replace nulls with this average\n",
    "cust_emp_imputed = cust_emp_clean.fillna({\"emp_length\": avg_emp_length})\n",
    "\n",
    "cust_emp_imputed.show(10)\n"
   ]
  },
  {
   "cell_type": "code",
   "execution_count": 0,
   "metadata": {
    "application/vnd.databricks.v1+cell": {
     "cellMetadata": {
      "byteLimit": 2048000,
      "rowLimit": 10000
     },
     "inputWidgets": {},
     "nuid": "675e144f-40ce-4741-9fcf-3c0f16b77666",
     "showTitle": false,
     "tableResultSettingsMap": {},
     "title": ""
    }
   },
   "outputs": [
    {
     "output_type": "stream",
     "name": "stdout",
     "output_type": "stream",
     "text": [
      "Out[70]: 0"
     ]
    }
   ],
   "source": [
    "cust_emp_imputed.filter(\"emp_length is null\").count()"
   ]
  },
  {
   "cell_type": "code",
   "execution_count": 0,
   "metadata": {
    "application/vnd.databricks.v1+cell": {
     "cellMetadata": {
      "byteLimit": 2048000,
      "rowLimit": 10000
     },
     "inputWidgets": {},
     "nuid": "94033602-58e6-4aea-973c-c8780da7cfa3",
     "showTitle": false,
     "tableResultSettingsMap": {},
     "title": ""
    }
   },
   "outputs": [
    {
     "output_type": "stream",
     "name": "stdout",
     "output_type": "stream",
     "text": [
      "+--------------------+\n|count(address_state)|\n+--------------------+\n|                 254|\n+--------------------+\n\n"
     ]
    }
   ],
   "source": [
    "cust_emp_imputed.createOrReplaceTempView(\"customers\")\n",
    "spark.sql(\"select count(address_state) from customers where length (address_state)>2\").show()"
   ]
  },
  {
   "cell_type": "code",
   "execution_count": 0,
   "metadata": {
    "application/vnd.databricks.v1+cell": {
     "cellMetadata": {
      "byteLimit": 2048000,
      "rowLimit": 10000
     },
     "inputWidgets": {},
     "nuid": "be5d5c19-3ec8-4a65-abd4-6845f0d51357",
     "showTitle": false,
     "tableResultSettingsMap": {},
     "title": ""
    }
   },
   "outputs": [],
   "source": [
    "from pyspark.sql.functions import when, col, length\n",
    "\n",
    "# Overwrite existing DataFrame\n",
    "cust_emp_state= cust_emp_imputed.withColumn(\n",
    "    \"address_state\",\n",
    "    when(length(col(\"address_state\")) > 2, \"NA\")\n",
    "    .otherwise(col(\"address_state\"))\n",
    ")"
   ]
  },
  {
   "cell_type": "code",
   "execution_count": 0,
   "metadata": {
    "application/vnd.databricks.v1+cell": {
     "cellMetadata": {
      "byteLimit": 2048000,
      "rowLimit": 10000
     },
     "inputWidgets": {},
     "nuid": "8992854f-9631-4546-9ee6-cc32160b2671",
     "showTitle": false,
     "tableResultSettingsMap": {},
     "title": ""
    }
   },
   "outputs": [
    {
     "output_type": "stream",
     "name": "stdout",
     "output_type": "stream",
     "text": [
      "+--------------------+\n|count(address_state)|\n+--------------------+\n|                   0|\n+--------------------+\n\n"
     ]
    }
   ],
   "source": [
    "cust_emp_state.createOrReplaceTempView(\"customers\")\n",
    "spark.sql(\"select count(address_state) from customers where length (address_state)>2\").show()"
   ]
  },
  {
   "cell_type": "code",
   "execution_count": 0,
   "metadata": {
    "application/vnd.databricks.v1+cell": {
     "cellMetadata": {
      "byteLimit": 2048000,
      "rowLimit": 10000
     },
     "inputWidgets": {},
     "nuid": "9aa91765-cb26-464d-bc78-41fb3e5b48ef",
     "showTitle": false,
     "tableResultSettingsMap": {},
     "title": ""
    }
   },
   "outputs": [
    {
     "output_type": "stream",
     "name": "stdout",
     "output_type": "stream",
     "text": [
      "+-------------+\n|address_state|\n+-------------+\n|           SC|\n|           AZ|\n|           MN|\n|           NJ|\n|           VA|\n|           RI|\n|           CA|\n|           NC|\n|           MD|\n|           MO|\n|           IL|\n|           WA|\n|           AL|\n|           IN|\n|           NM|\n|           PA|\n|           SD|\n|           NY|\n|           TX|\n|           GA|\n+-------------+\nonly showing top 20 rows\n\n"
     ]
    }
   ],
   "source": [
    "cust_emp_state.select(\"address_state\").distinct().show()"
   ]
  },
  {
   "cell_type": "code",
   "execution_count": 0,
   "metadata": {
    "application/vnd.databricks.v1+cell": {
     "cellMetadata": {
      "byteLimit": 2048000,
      "rowLimit": 10000
     },
     "inputWidgets": {},
     "nuid": "9d8f56ab-a184-4a46-8cb5-a1dc90676fdf",
     "showTitle": false,
     "tableResultSettingsMap": {},
     "title": ""
    }
   },
   "outputs": [],
   "source": [
    "cust_emp_state.write.format(\"parquet\")\\\n",
    ".mode(\"overwrite\")\\\n",
    ".option (\"path\", \"dbfs:/FileStore/tables/lendingclubproject/cleaned/customers_data_parquet\")\\\n",
    ".save()"
   ]
  },
  {
   "cell_type": "code",
   "execution_count": 0,
   "metadata": {
    "application/vnd.databricks.v1+cell": {
     "cellMetadata": {
      "byteLimit": 2048000,
      "rowLimit": 10000
     },
     "inputWidgets": {},
     "nuid": "c1f130c7-073e-415b-a75f-4dcd76624453",
     "showTitle": false,
     "tableResultSettingsMap": {},
     "title": ""
    }
   },
   "outputs": [
    {
     "output_type": "display_data",
     "data": {
      "text/html": [
       "<style scoped>\n",
       "  .table-result-container {\n",
       "    max-height: 300px;\n",
       "    overflow: auto;\n",
       "  }\n",
       "  table, th, td {\n",
       "    border: 1px solid black;\n",
       "    border-collapse: collapse;\n",
       "  }\n",
       "  th, td {\n",
       "    padding: 5px;\n",
       "  }\n",
       "  th {\n",
       "    text-align: left;\n",
       "  }\n",
       "</style><div class='table-result-container'><table class='table-result'><thead style='background-color: white'><tr><th>path</th><th>name</th><th>size</th><th>modificationTime</th></tr></thead><tbody><tr><td>dbfs:/FileStore/tables/lendingclubproject/cleaned/customers_data_parquet/_SUCCESS</td><td>_SUCCESS</td><td>0</td><td>1757569373000</td></tr><tr><td>dbfs:/FileStore/tables/lendingclubproject/cleaned/customers_data_parquet/_committed_2330909018883528478</td><td>_committed_2330909018883528478</td><td>924</td><td>1757569373000</td></tr><tr><td>dbfs:/FileStore/tables/lendingclubproject/cleaned/customers_data_parquet/_started_2330909018883528478</td><td>_started_2330909018883528478</td><td>0</td><td>1757569345000</td></tr><tr><td>dbfs:/FileStore/tables/lendingclubproject/cleaned/customers_data_parquet/part-00000-tid-2330909018883528478-38cb962c-beea-44c6-9aa9-a208d80cd79d-297-1-c000.snappy.parquet</td><td>part-00000-tid-2330909018883528478-38cb962c-beea-44c6-9aa9-a208d80cd79d-297-1-c000.snappy.parquet</td><td>24057378</td><td>1757569372000</td></tr><tr><td>dbfs:/FileStore/tables/lendingclubproject/cleaned/customers_data_parquet/part-00001-tid-2330909018883528478-38cb962c-beea-44c6-9aa9-a208d80cd79d-301-1-c000.snappy.parquet</td><td>part-00001-tid-2330909018883528478-38cb962c-beea-44c6-9aa9-a208d80cd79d-301-1-c000.snappy.parquet</td><td>23054327</td><td>1757569372000</td></tr><tr><td>dbfs:/FileStore/tables/lendingclubproject/cleaned/customers_data_parquet/part-00002-tid-2330909018883528478-38cb962c-beea-44c6-9aa9-a208d80cd79d-303-1-c000.snappy.parquet</td><td>part-00002-tid-2330909018883528478-38cb962c-beea-44c6-9aa9-a208d80cd79d-303-1-c000.snappy.parquet</td><td>23071480</td><td>1757569371000</td></tr><tr><td>dbfs:/FileStore/tables/lendingclubproject/cleaned/customers_data_parquet/part-00003-tid-2330909018883528478-38cb962c-beea-44c6-9aa9-a208d80cd79d-299-1-c000.snappy.parquet</td><td>part-00003-tid-2330909018883528478-38cb962c-beea-44c6-9aa9-a208d80cd79d-299-1-c000.snappy.parquet</td><td>24007068</td><td>1757569371000</td></tr><tr><td>dbfs:/FileStore/tables/lendingclubproject/cleaned/customers_data_parquet/part-00004-tid-2330909018883528478-38cb962c-beea-44c6-9aa9-a208d80cd79d-300-1-c000.snappy.parquet</td><td>part-00004-tid-2330909018883528478-38cb962c-beea-44c6-9aa9-a208d80cd79d-300-1-c000.snappy.parquet</td><td>22990794</td><td>1757569370000</td></tr><tr><td>dbfs:/FileStore/tables/lendingclubproject/cleaned/customers_data_parquet/part-00005-tid-2330909018883528478-38cb962c-beea-44c6-9aa9-a208d80cd79d-296-1-c000.snappy.parquet</td><td>part-00005-tid-2330909018883528478-38cb962c-beea-44c6-9aa9-a208d80cd79d-296-1-c000.snappy.parquet</td><td>23971367</td><td>1757569372000</td></tr><tr><td>dbfs:/FileStore/tables/lendingclubproject/cleaned/customers_data_parquet/part-00006-tid-2330909018883528478-38cb962c-beea-44c6-9aa9-a208d80cd79d-298-1-c000.snappy.parquet</td><td>part-00006-tid-2330909018883528478-38cb962c-beea-44c6-9aa9-a208d80cd79d-298-1-c000.snappy.parquet</td><td>23935151</td><td>1757569372000</td></tr><tr><td>dbfs:/FileStore/tables/lendingclubproject/cleaned/customers_data_parquet/part-00007-tid-2330909018883528478-38cb962c-beea-44c6-9aa9-a208d80cd79d-302-1-c000.snappy.parquet</td><td>part-00007-tid-2330909018883528478-38cb962c-beea-44c6-9aa9-a208d80cd79d-302-1-c000.snappy.parquet</td><td>22984810</td><td>1757569369000</td></tr><tr><td>dbfs:/FileStore/tables/lendingclubproject/cleaned/customers_data_parquet/part-00008-tid-2330909018883528478-38cb962c-beea-44c6-9aa9-a208d80cd79d-304-1-c000.snappy.parquet</td><td>part-00008-tid-2330909018883528478-38cb962c-beea-44c6-9aa9-a208d80cd79d-304-1-c000.snappy.parquet</td><td>3792786</td><td>1757569372000</td></tr></tbody></table></div>"
      ]
     },
     "metadata": {
      "application/vnd.databricks.v1+output": {
       "addedWidgets": {},
       "aggData": [],
       "aggError": "",
       "aggOverflow": false,
       "aggSchema": [],
       "aggSeriesLimitReached": false,
       "aggType": "",
       "arguments": {},
       "columnCustomDisplayInfos": {},
       "data": [
        [
         "dbfs:/FileStore/tables/lendingclubproject/cleaned/customers_data_parquet/_SUCCESS",
         "_SUCCESS",
         0,
         1757569373000
        ],
        [
         "dbfs:/FileStore/tables/lendingclubproject/cleaned/customers_data_parquet/_committed_2330909018883528478",
         "_committed_2330909018883528478",
         924,
         1757569373000
        ],
        [
         "dbfs:/FileStore/tables/lendingclubproject/cleaned/customers_data_parquet/_started_2330909018883528478",
         "_started_2330909018883528478",
         0,
         1757569345000
        ],
        [
         "dbfs:/FileStore/tables/lendingclubproject/cleaned/customers_data_parquet/part-00000-tid-2330909018883528478-38cb962c-beea-44c6-9aa9-a208d80cd79d-297-1-c000.snappy.parquet",
         "part-00000-tid-2330909018883528478-38cb962c-beea-44c6-9aa9-a208d80cd79d-297-1-c000.snappy.parquet",
         24057378,
         1757569372000
        ],
        [
         "dbfs:/FileStore/tables/lendingclubproject/cleaned/customers_data_parquet/part-00001-tid-2330909018883528478-38cb962c-beea-44c6-9aa9-a208d80cd79d-301-1-c000.snappy.parquet",
         "part-00001-tid-2330909018883528478-38cb962c-beea-44c6-9aa9-a208d80cd79d-301-1-c000.snappy.parquet",
         23054327,
         1757569372000
        ],
        [
         "dbfs:/FileStore/tables/lendingclubproject/cleaned/customers_data_parquet/part-00002-tid-2330909018883528478-38cb962c-beea-44c6-9aa9-a208d80cd79d-303-1-c000.snappy.parquet",
         "part-00002-tid-2330909018883528478-38cb962c-beea-44c6-9aa9-a208d80cd79d-303-1-c000.snappy.parquet",
         23071480,
         1757569371000
        ],
        [
         "dbfs:/FileStore/tables/lendingclubproject/cleaned/customers_data_parquet/part-00003-tid-2330909018883528478-38cb962c-beea-44c6-9aa9-a208d80cd79d-299-1-c000.snappy.parquet",
         "part-00003-tid-2330909018883528478-38cb962c-beea-44c6-9aa9-a208d80cd79d-299-1-c000.snappy.parquet",
         24007068,
         1757569371000
        ],
        [
         "dbfs:/FileStore/tables/lendingclubproject/cleaned/customers_data_parquet/part-00004-tid-2330909018883528478-38cb962c-beea-44c6-9aa9-a208d80cd79d-300-1-c000.snappy.parquet",
         "part-00004-tid-2330909018883528478-38cb962c-beea-44c6-9aa9-a208d80cd79d-300-1-c000.snappy.parquet",
         22990794,
         1757569370000
        ],
        [
         "dbfs:/FileStore/tables/lendingclubproject/cleaned/customers_data_parquet/part-00005-tid-2330909018883528478-38cb962c-beea-44c6-9aa9-a208d80cd79d-296-1-c000.snappy.parquet",
         "part-00005-tid-2330909018883528478-38cb962c-beea-44c6-9aa9-a208d80cd79d-296-1-c000.snappy.parquet",
         23971367,
         1757569372000
        ],
        [
         "dbfs:/FileStore/tables/lendingclubproject/cleaned/customers_data_parquet/part-00006-tid-2330909018883528478-38cb962c-beea-44c6-9aa9-a208d80cd79d-298-1-c000.snappy.parquet",
         "part-00006-tid-2330909018883528478-38cb962c-beea-44c6-9aa9-a208d80cd79d-298-1-c000.snappy.parquet",
         23935151,
         1757569372000
        ],
        [
         "dbfs:/FileStore/tables/lendingclubproject/cleaned/customers_data_parquet/part-00007-tid-2330909018883528478-38cb962c-beea-44c6-9aa9-a208d80cd79d-302-1-c000.snappy.parquet",
         "part-00007-tid-2330909018883528478-38cb962c-beea-44c6-9aa9-a208d80cd79d-302-1-c000.snappy.parquet",
         22984810,
         1757569369000
        ],
        [
         "dbfs:/FileStore/tables/lendingclubproject/cleaned/customers_data_parquet/part-00008-tid-2330909018883528478-38cb962c-beea-44c6-9aa9-a208d80cd79d-304-1-c000.snappy.parquet",
         "part-00008-tid-2330909018883528478-38cb962c-beea-44c6-9aa9-a208d80cd79d-304-1-c000.snappy.parquet",
         3792786,
         1757569372000
        ]
       ],
       "datasetInfos": [],
       "dbfsResultPath": null,
       "isJsonSchema": true,
       "metadata": {
        "isDbfsCommandResult": false
       },
       "overflow": false,
       "plotOptions": {
        "customPlotOptions": {},
        "displayType": "table",
        "pivotAggregation": null,
        "pivotColumns": null,
        "xColumns": null,
        "yColumns": null
       },
       "removedWidgets": [],
       "schema": [
        {
         "metadata": "{}",
         "name": "path",
         "type": "\"string\""
        },
        {
         "metadata": "{}",
         "name": "name",
         "type": "\"string\""
        },
        {
         "metadata": "{}",
         "name": "size",
         "type": "\"long\""
        },
        {
         "metadata": "{}",
         "name": "modificationTime",
         "type": "\"long\""
        }
       ],
       "type": "table"
      }
     },
     "output_type": "display_data"
    }
   ],
   "source": [
    "%fs ls dbfs:/FileStore/tables/lendingclubproject/cleaned/customers_data_parquet\n"
   ]
  }
 ],
 "metadata": {
  "application/vnd.databricks.v1+notebook": {
   "computePreferences": null,
   "dashboards": [],
   "environmentMetadata": {
    "base_environment": "",
    "environment_version": "1"
   },
   "inputWidgetPreferences": null,
   "language": "python",
   "notebookMetadata": {
    "mostRecentlyExecutedCommandWithImplicitDF": {
     "commandId": 934894601375456,
     "dataframes": [
      "_sqldf"
     ]
    },
    "pythonIndentUnit": 4
   },
   "notebookName": "lending_club_customers_data_clean",
   "widgets": {}
  }
 },
 "nbformat": 4,
 "nbformat_minor": 0
}