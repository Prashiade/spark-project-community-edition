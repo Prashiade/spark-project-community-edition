{
 "cells": [
  {
   "cell_type": "code",
   "execution_count": 0,
   "metadata": {
    "application/vnd.databricks.v1+cell": {
     "cellMetadata": {
      "byteLimit": 2048000,
      "rowLimit": 10000
     },
     "inputWidgets": {},
     "nuid": "a508953d-cf73-4112-b581-8d3b18a6f5a0",
     "showTitle": false,
     "tableResultSettingsMap": {},
     "title": ""
    }
   },
   "outputs": [],
   "source": [
    "customers_data_path =\"dbfs:/FileStore/tables/lendingclubproject/raw/customers_data_csv\"\n",
    "loans_path=\"dbfs:/FileStore/tables/lendingclubproject/raw/loans_data_csv\"\n",
    "loans_repayment_path =\"/FileStore/tables/lendingclubproject/raw/loans_repayments_csv\"\n",
    "loans_default_path =\"dbfs:/FileStore/tables/lendingclubproject/raw/loans_defaulters_csv\""
   ]
  },
  {
   "cell_type": "code",
   "execution_count": 0,
   "metadata": {
    "application/vnd.databricks.v1+cell": {
     "cellMetadata": {
      "byteLimit": 2048000,
      "rowLimit": 10000
     },
     "inputWidgets": {},
     "nuid": "835f248c-43ae-4e0f-ae7e-7564e3bf3c49",
     "showTitle": false,
     "tableResultSettingsMap": {},
     "title": ""
    }
   },
   "outputs": [
    {
     "output_type": "stream",
     "name": "stdout",
     "output_type": "stream",
     "text": [
      "✅ Raw Data Schema:\nroot\n |-- member_id: string (nullable = true)\n |-- delinq_2yrs: float (nullable = true)\n |-- delinq_amnt: float (nullable = true)\n |-- pub_rec: float (nullable = true)\n |-- pub_rec_bankruptcies: float (nullable = true)\n |-- inq_last_6mths: float (nullable = true)\n |-- total_rec_late_fee: float (nullable = true)\n |-- mths_since_last_delinq: float (nullable = true)\n |-- mths_since_last_record: float (nullable = true)\n\n+--------------------+-----------+-----------+-------+--------------------+--------------+------------------+----------------------+----------------------+\n|           member_id|delinq_2yrs|delinq_amnt|pub_rec|pub_rec_bankruptcies|inq_last_6mths|total_rec_late_fee|mths_since_last_delinq|mths_since_last_record|\n+--------------------+-----------+-----------+-------+--------------------+--------------+------------------+----------------------+----------------------+\n|6d5091b3fcaaeb4ea...|        0.0|        0.0|    0.0|                 0.0|           1.0|               0.0|                  30.0|                  null|\n|b5e7938b0a2da4cea...|        1.0|        0.0|    0.0|                 0.0|           4.0|               0.0|                   6.0|                  null|\n|91060b858433e8a61...|        0.0|        0.0|    0.0|                 0.0|           0.0|               0.0|                  null|                  null|\n|cab1fa9f533688b0a...|        0.0|        0.0|    0.0|                 0.0|           0.0|               0.0|                  null|                  null|\n|f74e401c1ab0adf78...|        1.0|        0.0|    0.0|                 0.0|           3.0|               0.0|                  12.0|                  null|\n+--------------------+-----------+-----------+-------+--------------------+--------------+------------------+----------------------+----------------------+\nonly showing top 5 rows\n\n✅ Delinquency Records:\n+--------------------+-----------+-----------+----------------------+\n|           member_id|delinq_2yrs|delinq_amnt|mths_since_last_delinq|\n+--------------------+-----------+-----------+----------------------+\n|6d5091b3fcaaeb4ea...|        0.0|        0.0|                    30|\n|b5e7938b0a2da4cea...|        1.0|        0.0|                     6|\n|f74e401c1ab0adf78...|        1.0|        0.0|                    12|\n|538b4653da3b1e814...|        0.0|        0.0|                    49|\n|b24d55f21390533c5...|        1.0|        0.0|                     3|\n+--------------------+-----------+-----------+----------------------+\nonly showing top 5 rows\n\nroot\n |-- member_id: string (nullable = true)\n |-- delinq_2yrs: float (nullable = true)\n |-- delinq_amnt: float (nullable = true)\n |-- mths_since_last_delinq: integer (nullable = true)\n\n✅ Public Records / Enquiries Records:\n+--------------------+\n|           member_id|\n+--------------------+\n|6d5091b3fcaaeb4ea...|\n|b5e7938b0a2da4cea...|\n|f74e401c1ab0adf78...|\n|1035c5401b0ca76d0...|\n|9fe2d59ddf2a4f37e...|\n+--------------------+\nonly showing top 5 rows\n\n✅ Data written successfully to cleaned CSV folders in DBFS.\n"
     ]
    }
   ],
   "source": [
    "from pyspark.sql.types import StructType\n",
    "from pyspark.sql.functions import col, lit\n",
    "\n",
    "# ---------------------------\n",
    "# 1️⃣ Define Schema (Strict)\n",
    "# ---------------------------\n",
    "loan_defaulters_schema = \"\"\"\n",
    "member_id STRING,\n",
    "delinq_2yrs FLOAT,\n",
    "delinq_amnt FLOAT,\n",
    "pub_rec FLOAT,\n",
    "pub_rec_bankruptcies FLOAT,\n",
    "inq_last_6mths FLOAT,\n",
    "total_rec_late_fee FLOAT,\n",
    "mths_since_last_delinq FLOAT,\n",
    "mths_since_last_record FLOAT\n",
    "\"\"\"\n",
    "\n",
    "# ---------------------------\n",
    "# 2️⃣ Read Raw CSV with Schema\n",
    "# ---------------------------\n",
    "loans_def_raw_df = spark.read \\\n",
    "    .format(\"csv\") \\\n",
    "    .option(\"header\", True) \\\n",
    "    .schema(loan_defaulters_schema) \\\n",
    "    .load(\"dbfs:/FileStore/tables/lendingclubproject/raw/loans_defaulters_csv\")\n",
    "\n",
    "print(\"✅ Raw Data Schema:\")\n",
    "loans_def_raw_df.printSchema()\n",
    "loans_def_raw_df.show(5)\n",
    "\n",
    "# ---------------------------\n",
    "# 3️⃣ Handle Missing Columns (Optional)\n",
    "# ---------------------------\n",
    "# If parquet file might be missing these, ensure they exist with default values\n",
    "loans_def_processed_df = loans_def_raw_df \\\n",
    "    .withColumn(\"pub_rec\", col(\"pub_rec\") if \"pub_rec\" in loans_def_raw_df.columns else lit(0.0)) \\\n",
    "    .withColumn(\"pub_rec_bankruptcies\", col(\"pub_rec_bankruptcies\") if \"pub_rec_bankruptcies\" in loans_def_raw_df.columns else lit(0.0)) \\\n",
    "    .withColumn(\"inq_last_6mths\", col(\"inq_last_6mths\") if \"inq_last_6mths\" in loans_def_raw_df.columns else lit(0.0))\n",
    "\n",
    "# ---------------------------\n",
    "# 4️⃣ Create Temp View\n",
    "# ---------------------------\n",
    "loans_def_processed_df.createOrReplaceTempView(\"loan_defaulters\")\n",
    "\n",
    "# ---------------------------\n",
    "# 5️⃣ SQL Transformation 1: Delinquency Filter\n",
    "# ---------------------------\n",
    "loans_def_delinq_df = spark.sql(\"\"\"\n",
    "SELECT \n",
    "  member_id,\n",
    "  delinq_2yrs,\n",
    "  delinq_amnt,\n",
    "  CAST(mths_since_last_delinq AS INT) AS mths_since_last_delinq\n",
    "FROM loan_defaulters\n",
    "WHERE delinq_2yrs > 0 OR mths_since_last_delinq > 0\n",
    "\"\"\")\n",
    "\n",
    "print(\"✅ Delinquency Records:\")\n",
    "loans_def_delinq_df.show(5)\n",
    "loans_def_delinq_df.printSchema()\n",
    "\n",
    "# ---------------------------\n",
    "# 6️⃣ SQL Transformation 2: Public Records / Inquiries Filter\n",
    "# ---------------------------\n",
    "loans_def_records_enq_df = spark.sql(\"\"\"\n",
    "SELECT member_id\n",
    "FROM loan_defaulters\n",
    "WHERE pub_rec > 0.0 OR pub_rec_bankruptcies > 0.0 OR inq_last_6mths > 0.0\n",
    "\"\"\")\n",
    "\n",
    "print(\"✅ Public Records / Enquiries Records:\")\n",
    "loans_def_records_enq_df.show(5)\n",
    "\n",
    "# ---------------------------\n",
    "# 7️⃣ Write Outputs (CSV)\n",
    "# ---------------------------\n",
    "loans_def_delinq_df.write \\\n",
    "    .option(\"header\", True) \\\n",
    "    .mode(\"overwrite\") \\\n",
    "    .csv(\"dbfs:/FileStore/tables/lendingclubproject/cleaned/loans_defaulters_deling_csv\")\n",
    "\n",
    "loans_def_records_enq_df.write \\\n",
    "    .option(\"header\", True) \\\n",
    "    .mode(\"overwrite\") \\\n",
    "    .csv(\"dbfs:/FileStore/tables/lendingclubproject/cleaned/loans_defaulters_records_enq_csv\")\n",
    "\n",
    "print(\"✅ Data written successfully to cleaned CSV folders in DBFS.\")\n"
   ]
  },
  {
   "cell_type": "code",
   "execution_count": 0,
   "metadata": {
    "application/vnd.databricks.v1+cell": {
     "cellMetadata": {
      "byteLimit": 2048000,
      "rowLimit": 10000
     },
     "inputWidgets": {},
     "nuid": "fbc7c353-0997-4e9b-bc50-450d94976955",
     "showTitle": false,
     "tableResultSettingsMap": {},
     "title": ""
    }
   },
   "outputs": [
    {
     "output_type": "stream",
     "name": "stdout",
     "output_type": "stream",
     "text": [
      "✅ Data written successfully to cleaned CSV folders in DBFS.\n✅ Data written successfully to cleaned Parquet folders in DBFS.\n"
     ]
    }
   ],
   "source": [
    "# ---------------------------\n",
    "# 7️⃣ Write Outputs (CSV)\n",
    "# ---------------------------\n",
    "loans_def_delinq_df.write \\\n",
    "    .option(\"header\", True) \\\n",
    "    .mode(\"overwrite\") \\\n",
    "    .csv(\"dbfs:/FileStore/tables/lendingclubproject/cleaned/loans_defaulters_deling_csv\")\n",
    "\n",
    "loans_def_records_enq_df.write \\\n",
    "    .option(\"header\", True) \\\n",
    "    .mode(\"overwrite\") \\\n",
    "    .csv(\"dbfs:/FileStore/tables/lendingclubproject/cleaned/loans_defaulters_records_enq_csv\")\n",
    "\n",
    "print(\"✅ Data written successfully to cleaned CSV folders in DBFS.\")\n",
    "\n",
    "# ---------------------------\n",
    "# 8️⃣ Write Outputs (Parquet)\n",
    "# ---------------------------\n",
    "loans_def_delinq_df.write \\\n",
    "    .format(\"parquet\") \\\n",
    "    .mode(\"overwrite\") \\\n",
    "    .save(\"dbfs:/FileStore/tables/lendingclubproject/cleaned/loans_defaulters_deling_parquet\")\n",
    "\n",
    "loans_def_records_enq_df.write \\\n",
    "    .format(\"parquet\") \\\n",
    "    .mode(\"overwrite\") \\\n",
    "    .save(\"dbfs:/FileStore/tables/lendingclubproject/cleaned/loans_defaulters_records_enq_parquet\")\n",
    "\n",
    "print(\"✅ Data written successfully to cleaned Parquet folders in DBFS.\")\n"
   ]
  }
 ],
 "metadata": {
  "application/vnd.databricks.v1+notebook": {
   "computePreferences": null,
   "dashboards": [],
   "environmentMetadata": {
    "base_environment": "",
    "environment_version": "1"
   },
   "inputWidgetPreferences": null,
   "language": "python",
   "notebookMetadata": {
    "pythonIndentUnit": 4
   },
   "notebookName": "lending_club_loan_default_clean",
   "widgets": {}
  }
 },
 "nbformat": 4,
 "nbformat_minor": 0
}