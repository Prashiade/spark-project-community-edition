{
 "cells": [
  {
   "cell_type": "code",
   "execution_count": 0,
   "metadata": {
    "application/vnd.databricks.v1+cell": {
     "cellMetadata": {},
     "inputWidgets": {},
     "nuid": "1c137131-0198-4bbb-83ce-825b5f49e760",
     "showTitle": false,
     "tableResultSettingsMap": {},
     "title": ""
    }
   },
   "outputs": [],
   "source": [
    "customers_data_path =\"dbfs:/FileStore/tables/lendingclubproject/raw/customers_data_csv\"\n",
    "loans_path=\"dbfs:/FileStore/tables/lendingclubproject/raw/loans_data_csv\"\n",
    "loans_repayment_path =\"/FileStore/tables/lendingclubproject/raw/loans_repayments_csv\"\n",
    "loans_default_path =\"dbfs:/FileStore/tables/lendingclubproject/raw/loans_defaulters_csv\""
   ]
  },
  {
   "cell_type": "code",
   "execution_count": 0,
   "metadata": {
    "application/vnd.databricks.v1+cell": {
     "cellMetadata": {
      "byteLimit": 2048000,
      "rowLimit": 10000
     },
     "inputWidgets": {},
     "nuid": "ab075b2a-2236-42f5-89de-2e753b942cf7",
     "showTitle": false,
     "tableResultSettingsMap": {},
     "title": ""
    }
   },
   "outputs": [],
   "source": [
    "loan_rep_schema = \"loan_id string,total_principal_received float,total_interest_received float,total_late_fee_received float,total_payment_received float,last_payment_amount float,last_payment_date string,next_payment_date string\"\n"
   ]
  },
  {
   "cell_type": "code",
   "execution_count": 0,
   "metadata": {
    "application/vnd.databricks.v1+cell": {
     "cellMetadata": {
      "byteLimit": 2048000,
      "rowLimit": 10000
     },
     "inputWidgets": {},
     "nuid": "146804ce-cccd-47f2-8863-896a80f4161b",
     "showTitle": false,
     "tableResultSettingsMap": {},
     "title": ""
    }
   },
   "outputs": [
    {
     "output_type": "stream",
     "name": "stdout",
     "output_type": "stream",
     "text": [
      "root\n |-- loan_id: string (nullable = true)\n |-- total_principal_received: float (nullable = true)\n |-- total_interest_received: float (nullable = true)\n |-- total_late_fee_received: float (nullable = true)\n |-- total_payment_received: float (nullable = true)\n |-- last_payment_amount: float (nullable = true)\n |-- last_payment_date: string (nullable = true)\n |-- next_payment_date: string (nullable = true)\n\n"
     ]
    }
   ],
   "source": [
    "loans_repayment_path = \"dbfs:/FileStore/tables/lendingclubproject/raw/loans_repayments_csv/\"\n",
    "\n",
    "loans_repayment_raw_df = spark.read.format(\"csv\") \\\n",
    "    .option(\"header\", True) \\\n",
    "    .schema(loan_rep_schema) \\\n",
    "    .load(loans_repayment_path)\n",
    "\n",
    "\n",
    "loans_repayment_raw_df.printSchema()\n"
   ]
  },
  {
   "cell_type": "code",
   "execution_count": 0,
   "metadata": {
    "application/vnd.databricks.v1+cell": {
     "cellMetadata": {
      "byteLimit": 2048000,
      "rowLimit": 10000
     },
     "inputWidgets": {},
     "nuid": "7221293e-a4ac-448a-8da9-3ac9034ddb4e",
     "showTitle": false,
     "tableResultSettingsMap": {},
     "title": ""
    }
   },
   "outputs": [],
   "source": [
    "from pyspark.sql.functions import current_timestamp"
   ]
  },
  {
   "cell_type": "code",
   "execution_count": 0,
   "metadata": {
    "application/vnd.databricks.v1+cell": {
     "cellMetadata": {
      "byteLimit": 2048000,
      "rowLimit": 10000
     },
     "inputWidgets": {},
     "nuid": "09393c1c-534f-4340-b38e-892c1aabb337",
     "showTitle": false,
     "tableResultSettingsMap": {},
     "title": ""
    }
   },
   "outputs": [],
   "source": [
    "loans_repayment_ing = loans_repayment_raw_df.withColumn(\"ingested_date\", current_timestamp())"
   ]
  },
  {
   "cell_type": "code",
   "execution_count": 0,
   "metadata": {
    "application/vnd.databricks.v1+cell": {
     "cellMetadata": {
      "byteLimit": 2048000,
      "rowLimit": 10000
     },
     "inputWidgets": {},
     "nuid": "2ade3827-0154-43c8-a573-460ac8ddf7ed",
     "showTitle": false,
     "tableResultSettingsMap": {},
     "title": ""
    }
   },
   "outputs": [],
   "source": [
    "columns_to_check = [\n",
    "    \"total_principal_received\",\n",
    "    \"total_interest_received\",\n",
    "    \"total_late_fee_received\",\n",
    "    \"total_payment_received\",\n",
    "    \"last_payment_amount\"\n",
    "]\n"
   ]
  },
  {
   "cell_type": "code",
   "execution_count": 0,
   "metadata": {
    "application/vnd.databricks.v1+cell": {
     "cellMetadata": {
      "byteLimit": 2048000,
      "rowLimit": 10000
     },
     "inputWidgets": {},
     "nuid": "42e656d9-686b-4fab-9bd5-ae6ea057860a",
     "showTitle": false,
     "tableResultSettingsMap": {},
     "title": ""
    }
   },
   "outputs": [
    {
     "output_type": "stream",
     "name": "stdout",
     "output_type": "stream",
     "text": [
      "Out[14]: 2260498"
     ]
    }
   ],
   "source": [
    "loans_repay_fil =loans_repayment_ing.dropna(subset =columns_to_check)\n",
    "loans_repay_fil.count()"
   ]
  },
  {
   "cell_type": "code",
   "execution_count": 0,
   "metadata": {
    "application/vnd.databricks.v1+cell": {
     "cellMetadata": {
      "byteLimit": 2048000,
      "rowLimit": 10000
     },
     "inputWidgets": {},
     "nuid": "cbbc09c4-dbf0-4355-806e-fac019b27865",
     "showTitle": false,
     "tableResultSettingsMap": {},
     "title": ""
    }
   },
   "outputs": [
    {
     "output_type": "stream",
     "name": "stdout",
     "output_type": "stream",
     "text": [
      "+--------+------------------------+-----------------------+-----------------------+----------------------+-------------------+-----------------+-----------------+--------------------+\n| loan_id|total_principal_received|total_interest_received|total_late_fee_received|total_payment_received|last_payment_amount|last_payment_date|next_payment_date|       ingested_date|\n+--------+------------------------+-----------------------+-----------------------+----------------------+-------------------+-----------------+-----------------+--------------------+\n|68407277|                  3600.0|                 821.72|                    0.0|              4421.724|             122.67|         Jan-2019|             null|2025-09-11 08:21:...|\n|68355089|                 24700.0|                 979.66|                    0.0|              25679.66|             926.35|         Jun-2016|             null|2025-09-11 08:21:...|\n|68341763|                 20000.0|                2705.92|                    0.0|             22705.924|            15813.3|         Jun-2017|             null|2025-09-11 08:21:...|\n|66310712|                19102.35|               12361.66|                    0.0|              31464.01|              829.9|         Feb-2019|         Apr-2019|2025-09-11 08:21:...|\n|68476807|                 10400.0|                 1340.5|                    0.0|               11740.5|           10128.96|         Jul-2016|             null|2025-09-11 08:21:...|\n|68426831|                 11950.0|                1758.95|                    0.0|             13708.948|            7653.56|         May-2017|             null|2025-09-11 08:21:...|\n|68476668|                 20000.0|                 1393.8|                    0.0|               21393.8|           15681.05|         Nov-2016|             null|2025-09-11 08:21:...|\n|67275481|                 20000.0|                1538.51|                    0.0|              21538.51|           14618.23|         Jan-2017|             null|2025-09-11 08:21:...|\n|68466926|                 10000.0|                 998.97|                    0.0|             10998.972|            1814.48|         Aug-2018|             null|2025-09-11 08:21:...|\n|68616873|                  8000.0|                 939.58|                    0.0|               8939.58|            4996.24|         Apr-2017|             null|2025-09-11 08:21:...|\n+--------+------------------------+-----------------------+-----------------------+----------------------+-------------------+-----------------+-----------------+--------------------+\nonly showing top 10 rows\n\n"
     ]
    }
   ],
   "source": [
    "from pyspark.sql.functions import when, col\n",
    "\n",
    "loans_payments_fixed_df = loans_repay_fil.withColumn(\n",
    "    \"total_payment_received\",\n",
    "    when(\n",
    "        (col(\"total_principal_received\") != 0.0) & \n",
    "        (col(\"total_payment_received\") == 0.0),\n",
    "        col(\"total_principal_received\") + col(\"total_interest_received\") + col(\"total_late_fee_received\")\n",
    "    ).otherwise(col(\"total_payment_received\"))\n",
    ")\n",
    "\n",
    "loans_payments_fixed_df.show(10)\n"
   ]
  },
  {
   "cell_type": "code",
   "execution_count": 0,
   "metadata": {
    "application/vnd.databricks.v1+cell": {
     "cellMetadata": {
      "byteLimit": 2048000,
      "rowLimit": 10000
     },
     "inputWidgets": {},
     "nuid": "9c560004-09a2-404d-a84d-6fe376785323",
     "showTitle": false,
     "tableResultSettingsMap": {},
     "title": ""
    }
   },
   "outputs": [
    {
     "output_type": "stream",
     "name": "stdout",
     "output_type": "stream",
     "text": [
      "+--------+------------------------+-----------------------+-----------------------+----------------------+-------------------+-----------------+-----------------+--------------------+\n| loan_id|total_principal_received|total_interest_received|total_late_fee_received|total_payment_received|last_payment_amount|last_payment_date|next_payment_date|       ingested_date|\n+--------+------------------------+-----------------------+-----------------------+----------------------+-------------------+-----------------+-----------------+--------------------+\n|68407277|                  3600.0|                 821.72|                    0.0|              4421.724|             122.67|         Jan-2019|             null|2025-09-11 08:23:...|\n|68355089|                 24700.0|                 979.66|                    0.0|              25679.66|             926.35|         Jun-2016|             null|2025-09-11 08:23:...|\n|68341763|                 20000.0|                2705.92|                    0.0|             22705.924|            15813.3|         Jun-2017|             null|2025-09-11 08:23:...|\n|66310712|                19102.35|               12361.66|                    0.0|              31464.01|              829.9|         Feb-2019|         Apr-2019|2025-09-11 08:23:...|\n|68476807|                 10400.0|                 1340.5|                    0.0|               11740.5|           10128.96|         Jul-2016|             null|2025-09-11 08:23:...|\n|68426831|                 11950.0|                1758.95|                    0.0|             13708.948|            7653.56|         May-2017|             null|2025-09-11 08:23:...|\n|68476668|                 20000.0|                 1393.8|                    0.0|               21393.8|           15681.05|         Nov-2016|             null|2025-09-11 08:23:...|\n|67275481|                 20000.0|                1538.51|                    0.0|              21538.51|           14618.23|         Jan-2017|             null|2025-09-11 08:23:...|\n|68466926|                 10000.0|                 998.97|                    0.0|             10998.972|            1814.48|         Aug-2018|             null|2025-09-11 08:23:...|\n|68616873|                  8000.0|                 939.58|                    0.0|               8939.58|            4996.24|         Apr-2017|             null|2025-09-11 08:23:...|\n+--------+------------------------+-----------------------+-----------------------+----------------------+-------------------+-----------------+-----------------+--------------------+\nonly showing top 10 rows\n\n"
     ]
    }
   ],
   "source": [
    "from pyspark.sql.functions import col\n",
    "\n",
    "loans_payments_fixed2_df = loans_payments_fixed_df.filter(col(\"total_payment_received\") != 0.0)\n",
    "loans_payments_fixed2_df.show(10)\n"
   ]
  },
  {
   "cell_type": "code",
   "execution_count": 0,
   "metadata": {
    "application/vnd.databricks.v1+cell": {
     "cellMetadata": {
      "byteLimit": 2048000,
      "rowLimit": 10000
     },
     "inputWidgets": {},
     "nuid": "8dce7f80-17d6-469f-a4e4-87712a6ca61d",
     "showTitle": false,
     "tableResultSettingsMap": {},
     "title": ""
    }
   },
   "outputs": [
    {
     "output_type": "stream",
     "name": "stdout",
     "output_type": "stream",
     "text": [
      "+--------+------------------------+-----------------------+-----------------------+----------------------+-------------------+-----------------+-----------------+--------------------+\n| loan_id|total_principal_received|total_interest_received|total_late_fee_received|total_payment_received|last_payment_amount|last_payment_date|next_payment_date|       ingested_date|\n+--------+------------------------+-----------------------+-----------------------+----------------------+-------------------+-----------------+-----------------+--------------------+\n|68407277|                  3600.0|                 821.72|                    0.0|              4421.724|             122.67|         Jan-2019|             null|2025-09-11 08:25:...|\n|68355089|                 24700.0|                 979.66|                    0.0|              25679.66|             926.35|         Jun-2016|             null|2025-09-11 08:25:...|\n|68341763|                 20000.0|                2705.92|                    0.0|             22705.924|            15813.3|         Jun-2017|             null|2025-09-11 08:25:...|\n|66310712|                19102.35|               12361.66|                    0.0|              31464.01|              829.9|         Feb-2019|         Apr-2019|2025-09-11 08:25:...|\n|68476807|                 10400.0|                 1340.5|                    0.0|               11740.5|           10128.96|         Jul-2016|             null|2025-09-11 08:25:...|\n|68426831|                 11950.0|                1758.95|                    0.0|             13708.948|            7653.56|         May-2017|             null|2025-09-11 08:25:...|\n|68476668|                 20000.0|                 1393.8|                    0.0|               21393.8|           15681.05|         Nov-2016|             null|2025-09-11 08:25:...|\n|67275481|                 20000.0|                1538.51|                    0.0|              21538.51|           14618.23|         Jan-2017|             null|2025-09-11 08:25:...|\n|68466926|                 10000.0|                 998.97|                    0.0|             10998.972|            1814.48|         Aug-2018|             null|2025-09-11 08:25:...|\n|68616873|                  8000.0|                 939.58|                    0.0|               8939.58|            4996.24|         Apr-2017|             null|2025-09-11 08:25:...|\n+--------+------------------------+-----------------------+-----------------------+----------------------+-------------------+-----------------+-----------------+--------------------+\nonly showing top 10 rows\n\n"
     ]
    }
   ],
   "source": [
    "from pyspark.sql.functions import when, col\n",
    "\n",
    "# Fix last_payment_date first\n",
    "loans_payments_ldate_fixed_df = loans_payments_fixed2_df.withColumn(\n",
    "    \"last_payment_date\",\n",
    "    when(col(\"last_payment_date\") == \"0.0\", None).otherwise(col(\"last_payment_date\"))\n",
    ")\n",
    "\n",
    "# Fix next_payment_date\n",
    "loans_payments_ndate_fixed_df = loans_payments_ldate_fixed_df.withColumn(\n",
    "    \"next_payment_date\",\n",
    "    when(col(\"next_payment_date\") == \"0.0\", None).otherwise(col(\"next_payment_date\"))\n",
    ")\n",
    "\n",
    "loans_payments_ndate_fixed_df.show(10)\n"
   ]
  },
  {
   "cell_type": "code",
   "execution_count": 0,
   "metadata": {
    "application/vnd.databricks.v1+cell": {
     "cellMetadata": {
      "byteLimit": 2048000,
      "rowLimit": 10000
     },
     "inputWidgets": {},
     "nuid": "360eb346-822c-46c1-abd2-4270d8d5ac6b",
     "showTitle": false,
     "tableResultSettingsMap": {},
     "title": ""
    }
   },
   "outputs": [],
   "source": [
    "loans_payments_ndate_fixed_df.write.format(\"parquet\") \\\n",
    "    .mode(\"overwrite\") \\\n",
    "    .option(\"path\", \"dbfs:/FileStore/tables/lendingclubproject/cleaned/loans_repayments_parquet\") \\\n",
    "    .save()\n"
   ]
  },
  {
   "cell_type": "code",
   "execution_count": 0,
   "metadata": {
    "application/vnd.databricks.v1+cell": {
     "cellMetadata": {
      "byteLimit": 2048000,
      "rowLimit": 10000
     },
     "inputWidgets": {},
     "nuid": "634841f6-feb1-4c85-bd55-4a1db123dff1",
     "showTitle": false,
     "tableResultSettingsMap": {},
     "title": ""
    }
   },
   "outputs": [
    {
     "output_type": "display_data",
     "data": {
      "text/html": [
       "<style scoped>\n",
       "  .table-result-container {\n",
       "    max-height: 300px;\n",
       "    overflow: auto;\n",
       "  }\n",
       "  table, th, td {\n",
       "    border: 1px solid black;\n",
       "    border-collapse: collapse;\n",
       "  }\n",
       "  th, td {\n",
       "    padding: 5px;\n",
       "  }\n",
       "  th {\n",
       "    text-align: left;\n",
       "  }\n",
       "</style><div class='table-result-container'><table class='table-result'><thead style='background-color: white'><tr><th>path</th><th>name</th><th>size</th><th>modificationTime</th></tr></thead><tbody><tr><td>dbfs:/FileStore/tables/lendingclubproject/cleaned/loans_repayments_parquet/_SUCCESS</td><td>_SUCCESS</td><td>0</td><td>1757579395000</td></tr><tr><td>dbfs:/FileStore/tables/lendingclubproject/cleaned/loans_repayments_parquet/_committed_4055122626246095289</td><td>_committed_4055122626246095289</td><td>824</td><td>1757579395000</td></tr><tr><td>dbfs:/FileStore/tables/lendingclubproject/cleaned/loans_repayments_parquet/_started_4055122626246095289</td><td>_started_4055122626246095289</td><td>0</td><td>1757579382000</td></tr><tr><td>dbfs:/FileStore/tables/lendingclubproject/cleaned/loans_repayments_parquet/part-00000-tid-4055122626246095289-53742a91-c3b6-47cc-b273-35bf0454372a-392-1-c000.snappy.parquet</td><td>part-00000-tid-4055122626246095289-53742a91-c3b6-47cc-b273-35bf0454372a-392-1-c000.snappy.parquet</td><td>6328652</td><td>1757579392000</td></tr><tr><td>dbfs:/FileStore/tables/lendingclubproject/cleaned/loans_repayments_parquet/part-00001-tid-4055122626246095289-53742a91-c3b6-47cc-b273-35bf0454372a-393-1-c000.snappy.parquet</td><td>part-00001-tid-4055122626246095289-53742a91-c3b6-47cc-b273-35bf0454372a-393-1-c000.snappy.parquet</td><td>6370806</td><td>1757579394000</td></tr><tr><td>dbfs:/FileStore/tables/lendingclubproject/cleaned/loans_repayments_parquet/part-00002-tid-4055122626246095289-53742a91-c3b6-47cc-b273-35bf0454372a-394-1-c000.snappy.parquet</td><td>part-00002-tid-4055122626246095289-53742a91-c3b6-47cc-b273-35bf0454372a-394-1-c000.snappy.parquet</td><td>6300151</td><td>1757579394000</td></tr><tr><td>dbfs:/FileStore/tables/lendingclubproject/cleaned/loans_repayments_parquet/part-00003-tid-4055122626246095289-53742a91-c3b6-47cc-b273-35bf0454372a-395-1-c000.snappy.parquet</td><td>part-00003-tid-4055122626246095289-53742a91-c3b6-47cc-b273-35bf0454372a-395-1-c000.snappy.parquet</td><td>6537877</td><td>1757579394000</td></tr><tr><td>dbfs:/FileStore/tables/lendingclubproject/cleaned/loans_repayments_parquet/part-00004-tid-4055122626246095289-53742a91-c3b6-47cc-b273-35bf0454372a-396-1-c000.snappy.parquet</td><td>part-00004-tid-4055122626246095289-53742a91-c3b6-47cc-b273-35bf0454372a-396-1-c000.snappy.parquet</td><td>6226586</td><td>1757579394000</td></tr><tr><td>dbfs:/FileStore/tables/lendingclubproject/cleaned/loans_repayments_parquet/part-00005-tid-4055122626246095289-53742a91-c3b6-47cc-b273-35bf0454372a-397-1-c000.snappy.parquet</td><td>part-00005-tid-4055122626246095289-53742a91-c3b6-47cc-b273-35bf0454372a-397-1-c000.snappy.parquet</td><td>6438489</td><td>1757579394000</td></tr><tr><td>dbfs:/FileStore/tables/lendingclubproject/cleaned/loans_repayments_parquet/part-00006-tid-4055122626246095289-53742a91-c3b6-47cc-b273-35bf0454372a-398-1-c000.snappy.parquet</td><td>part-00006-tid-4055122626246095289-53742a91-c3b6-47cc-b273-35bf0454372a-398-1-c000.snappy.parquet</td><td>6330621</td><td>1757579394000</td></tr><tr><td>dbfs:/FileStore/tables/lendingclubproject/cleaned/loans_repayments_parquet/part-00007-tid-4055122626246095289-53742a91-c3b6-47cc-b273-35bf0454372a-399-1-c000.snappy.parquet</td><td>part-00007-tid-4055122626246095289-53742a91-c3b6-47cc-b273-35bf0454372a-399-1-c000.snappy.parquet</td><td>4871035</td><td>1757579390000</td></tr></tbody></table></div>"
      ]
     },
     "metadata": {
      "application/vnd.databricks.v1+output": {
       "addedWidgets": {},
       "aggData": [],
       "aggError": "",
       "aggOverflow": false,
       "aggSchema": [],
       "aggSeriesLimitReached": false,
       "aggType": "",
       "arguments": {},
       "columnCustomDisplayInfos": {},
       "data": [
        [
         "dbfs:/FileStore/tables/lendingclubproject/cleaned/loans_repayments_parquet/_SUCCESS",
         "_SUCCESS",
         0,
         1757579395000
        ],
        [
         "dbfs:/FileStore/tables/lendingclubproject/cleaned/loans_repayments_parquet/_committed_4055122626246095289",
         "_committed_4055122626246095289",
         824,
         1757579395000
        ],
        [
         "dbfs:/FileStore/tables/lendingclubproject/cleaned/loans_repayments_parquet/_started_4055122626246095289",
         "_started_4055122626246095289",
         0,
         1757579382000
        ],
        [
         "dbfs:/FileStore/tables/lendingclubproject/cleaned/loans_repayments_parquet/part-00000-tid-4055122626246095289-53742a91-c3b6-47cc-b273-35bf0454372a-392-1-c000.snappy.parquet",
         "part-00000-tid-4055122626246095289-53742a91-c3b6-47cc-b273-35bf0454372a-392-1-c000.snappy.parquet",
         6328652,
         1757579392000
        ],
        [
         "dbfs:/FileStore/tables/lendingclubproject/cleaned/loans_repayments_parquet/part-00001-tid-4055122626246095289-53742a91-c3b6-47cc-b273-35bf0454372a-393-1-c000.snappy.parquet",
         "part-00001-tid-4055122626246095289-53742a91-c3b6-47cc-b273-35bf0454372a-393-1-c000.snappy.parquet",
         6370806,
         1757579394000
        ],
        [
         "dbfs:/FileStore/tables/lendingclubproject/cleaned/loans_repayments_parquet/part-00002-tid-4055122626246095289-53742a91-c3b6-47cc-b273-35bf0454372a-394-1-c000.snappy.parquet",
         "part-00002-tid-4055122626246095289-53742a91-c3b6-47cc-b273-35bf0454372a-394-1-c000.snappy.parquet",
         6300151,
         1757579394000
        ],
        [
         "dbfs:/FileStore/tables/lendingclubproject/cleaned/loans_repayments_parquet/part-00003-tid-4055122626246095289-53742a91-c3b6-47cc-b273-35bf0454372a-395-1-c000.snappy.parquet",
         "part-00003-tid-4055122626246095289-53742a91-c3b6-47cc-b273-35bf0454372a-395-1-c000.snappy.parquet",
         6537877,
         1757579394000
        ],
        [
         "dbfs:/FileStore/tables/lendingclubproject/cleaned/loans_repayments_parquet/part-00004-tid-4055122626246095289-53742a91-c3b6-47cc-b273-35bf0454372a-396-1-c000.snappy.parquet",
         "part-00004-tid-4055122626246095289-53742a91-c3b6-47cc-b273-35bf0454372a-396-1-c000.snappy.parquet",
         6226586,
         1757579394000
        ],
        [
         "dbfs:/FileStore/tables/lendingclubproject/cleaned/loans_repayments_parquet/part-00005-tid-4055122626246095289-53742a91-c3b6-47cc-b273-35bf0454372a-397-1-c000.snappy.parquet",
         "part-00005-tid-4055122626246095289-53742a91-c3b6-47cc-b273-35bf0454372a-397-1-c000.snappy.parquet",
         6438489,
         1757579394000
        ],
        [
         "dbfs:/FileStore/tables/lendingclubproject/cleaned/loans_repayments_parquet/part-00006-tid-4055122626246095289-53742a91-c3b6-47cc-b273-35bf0454372a-398-1-c000.snappy.parquet",
         "part-00006-tid-4055122626246095289-53742a91-c3b6-47cc-b273-35bf0454372a-398-1-c000.snappy.parquet",
         6330621,
         1757579394000
        ],
        [
         "dbfs:/FileStore/tables/lendingclubproject/cleaned/loans_repayments_parquet/part-00007-tid-4055122626246095289-53742a91-c3b6-47cc-b273-35bf0454372a-399-1-c000.snappy.parquet",
         "part-00007-tid-4055122626246095289-53742a91-c3b6-47cc-b273-35bf0454372a-399-1-c000.snappy.parquet",
         4871035,
         1757579390000
        ]
       ],
       "datasetInfos": [],
       "dbfsResultPath": null,
       "isJsonSchema": true,
       "metadata": {},
       "overflow": false,
       "plotOptions": {
        "customPlotOptions": {},
        "displayType": "table",
        "pivotAggregation": null,
        "pivotColumns": null,
        "xColumns": null,
        "yColumns": null
       },
       "removedWidgets": [],
       "schema": [
        {
         "metadata": "{}",
         "name": "path",
         "type": "\"string\""
        },
        {
         "metadata": "{}",
         "name": "name",
         "type": "\"string\""
        },
        {
         "metadata": "{}",
         "name": "size",
         "type": "\"long\""
        },
        {
         "metadata": "{}",
         "name": "modificationTime",
         "type": "\"long\""
        }
       ],
       "type": "table"
      }
     },
     "output_type": "display_data"
    }
   ],
   "source": [
    "display(dbutils.fs.ls(\"dbfs:/FileStore/tables/lendingclubproject/cleaned/loans_repayments_parquet\"))\n"
   ]
  },
  {
   "cell_type": "code",
   "execution_count": 0,
   "metadata": {
    "application/vnd.databricks.v1+cell": {
     "cellMetadata": {},
     "inputWidgets": {},
     "nuid": "565d235c-ec4d-49c5-9e6b-d1757b2c58d6",
     "showTitle": false,
     "tableResultSettingsMap": {},
     "title": ""
    }
   },
   "outputs": [],
   "source": []
  }
 ],
 "metadata": {
  "application/vnd.databricks.v1+notebook": {
   "computePreferences": null,
   "dashboards": [],
   "environmentMetadata": {
    "base_environment": "",
    "environment_version": "1"
   },
   "inputWidgetPreferences": null,
   "language": "python",
   "notebookMetadata": {
    "mostRecentlyExecutedCommandWithImplicitDF": {
     "commandId": -1,
     "dataframes": [
      "_sqldf"
     ]
    },
    "pythonIndentUnit": 4
   },
   "notebookName": "lending_club_loans_repayment_data",
   "widgets": {}
  }
 },
 "nbformat": 4,
 "nbformat_minor": 0
}