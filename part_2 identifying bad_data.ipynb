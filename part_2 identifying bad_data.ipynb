{
 "cells": [
  {
   "cell_type": "code",
   "execution_count": 0,
   "metadata": {
    "application/vnd.databricks.v1+cell": {
     "cellMetadata": {
      "byteLimit": 2048000,
      "rowLimit": 10000
     },
     "inputWidgets": {},
     "nuid": "878440c3-45ec-4674-8678-fabd5a1785ba",
     "showTitle": false,
     "tableResultSettingsMap": {},
     "title": ""
    }
   },
   "outputs": [
    {
     "output_type": "stream",
     "name": "stdout",
     "output_type": "stream",
     "text": [
      "+--------------------+--------+\n|           member_id|count(1)|\n+--------------------+--------+\n|50561e27d7276e186...|       1|\n|8341a09183b7365ca...|       1|\n|9e60f2f0c2de1fcf9...|       1|\n|082377f55a5444914...|       1|\n|acb04a90e20b2147c...|       1|\n|6308a729c77e2782e...|       1|\n|3a4e4ea08939d9c4f...|       1|\n|349dd53fbd35f41c6...|       1|\n|4e4b22f0df4c116f5...|       1|\n|d1eb265c588cb7cdf...|       1|\n|65e278cf26e8b0d82...|       1|\n|2ed68617bdb119ba7...|       1|\n|e360092adb94cfd44...|       1|\n|67bf8b34fdc40dd41...|       1|\n|337debc6dda6bf7d0...|       1|\n|00fc2ae3ffb1213e4...|       1|\n|b54006f43b12bd103...|       1|\n|8dd9f8a75be73fbc9...|       1|\n|2d9ba8080e205b078...|       1|\n|8e88742295e63ceee...|       1|\n+--------------------+--------+\nonly showing top 20 rows\n\n"
     ]
    }
   ],
   "source": [
    "spark.sql(\"select member_id, count(*) from  lending_club.customers group by member_id\").show()"
   ]
  },
  {
   "cell_type": "code",
   "execution_count": 0,
   "metadata": {
    "application/vnd.databricks.v1+cell": {
     "cellMetadata": {
      "byteLimit": 2048000,
      "rowLimit": 10000
     },
     "inputWidgets": {},
     "nuid": "e0915339-6f5a-47c0-8ae6-6774a19dcc84",
     "showTitle": false,
     "tableResultSettingsMap": {},
     "title": ""
    }
   },
   "outputs": [],
   "source": [
    "bad_data_customer_df = spark.sql(\"select member_id, count(*)as total from  lending_club.customers group by member_id having total >2\")"
   ]
  },
  {
   "cell_type": "code",
   "execution_count": 0,
   "metadata": {
    "application/vnd.databricks.v1+cell": {
     "cellMetadata": {
      "byteLimit": 2048000,
      "rowLimit": 10000
     },
     "inputWidgets": {},
     "nuid": "f3846e87-f058-4bbd-8a25-ae7041fba08f",
     "showTitle": false,
     "tableResultSettingsMap": {},
     "title": ""
    }
   },
   "outputs": [
    {
     "output_type": "stream",
     "name": "stdout",
     "output_type": "stream",
     "text": [
      "Out[8]: 92"
     ]
    }
   ],
   "source": [
    "bad_data_customer_df.count()"
   ]
  },
  {
   "cell_type": "code",
   "execution_count": 0,
   "metadata": {
    "application/vnd.databricks.v1+cell": {
     "cellMetadata": {
      "byteLimit": 2048000,
      "rowLimit": 10000
     },
     "inputWidgets": {},
     "nuid": "656e5d32-1d93-496b-8c51-32f8d6a8d823",
     "showTitle": false,
     "tableResultSettingsMap": {},
     "title": ""
    }
   },
   "outputs": [],
   "source": [
    "bad_data_laons_df = spark.sql(\"select member_id, count(*)as total from  lending_club.loans group by member_id having total >2\")"
   ]
  },
  {
   "cell_type": "code",
   "execution_count": 0,
   "metadata": {
    "application/vnd.databricks.v1+cell": {
     "cellMetadata": {},
     "inputWidgets": {},
     "nuid": "e8426803-4630-4e3e-80b8-9f8cfbde19fd",
     "showTitle": false,
     "tableResultSettingsMap": {},
     "title": ""
    }
   },
   "outputs": [],
   "source": [
    "bad_data_laons_df = spark.sql(\"select member_id, count(*)as total from  lending_club.loans group by member_id having total >2\")"
   ]
  },
  {
   "cell_type": "code",
   "execution_count": 0,
   "metadata": {
    "application/vnd.databricks.v1+cell": {
     "cellMetadata": {
      "byteLimit": 2048000,
      "rowLimit": 10000
     },
     "inputWidgets": {},
     "nuid": "abf30abb-1a1f-402e-a8a2-591348034714",
     "showTitle": false,
     "tableResultSettingsMap": {},
     "title": ""
    }
   },
   "outputs": [
    {
     "output_type": "stream",
     "name": "stdout",
     "output_type": "stream",
     "text": [
      "Out[12]: 0"
     ]
    }
   ],
   "source": [
    "bad_data_laons_df.count()"
   ]
  },
  {
   "cell_type": "code",
   "execution_count": 0,
   "metadata": {
    "application/vnd.databricks.v1+cell": {
     "cellMetadata": {
      "byteLimit": 2048000,
      "rowLimit": 10000
     },
     "inputWidgets": {},
     "nuid": "cdd294db-7dad-445b-898c-509ed1a81f68",
     "showTitle": false,
     "tableResultSettingsMap": {},
     "title": ""
    }
   },
   "outputs": [],
   "source": [
    "bad_data_laons_detail_rec_enq_df = spark.sql(\"select member_id, count(*)as total from  lending_club.loans_defaulters_detail_rec_enq group by member_id having total >2\")"
   ]
  },
  {
   "cell_type": "code",
   "execution_count": 0,
   "metadata": {
    "application/vnd.databricks.v1+cell": {
     "cellMetadata": {
      "byteLimit": 2048000,
      "rowLimit": 10000
     },
     "inputWidgets": {},
     "nuid": "08af49f1-8a6b-4a0e-9c1e-539564005355",
     "showTitle": false,
     "tableResultSettingsMap": {},
     "title": ""
    }
   },
   "outputs": [
    {
     "output_type": "stream",
     "name": "stdout",
     "output_type": "stream",
     "text": [
      "Out[16]: 0"
     ]
    }
   ],
   "source": [
    "bad_data_laons_detail_rec_enq_df.count()"
   ]
  },
  {
   "cell_type": "code",
   "execution_count": 0,
   "metadata": {
    "application/vnd.databricks.v1+cell": {
     "cellMetadata": {},
     "inputWidgets": {},
     "nuid": "6d702aac-ff4f-466d-ac11-e2947a5f99c2",
     "showTitle": false,
     "tableResultSettingsMap": {},
     "title": ""
    }
   },
   "outputs": [],
   "source": []
  }
 ],
 "metadata": {
  "application/vnd.databricks.v1+notebook": {
   "computePreferences": null,
   "dashboards": [],
   "environmentMetadata": {
    "base_environment": "",
    "environment_version": "1"
   },
   "inputWidgetPreferences": null,
   "language": "python",
   "notebookMetadata": {
    "pythonIndentUnit": 4
   },
   "notebookName": "part_2 identifying bad_data",
   "widgets": {}
  }
 },
 "nbformat": 4,
 "nbformat_minor": 0
}